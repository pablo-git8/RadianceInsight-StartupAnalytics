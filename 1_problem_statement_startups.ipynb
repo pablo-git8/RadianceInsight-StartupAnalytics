{
 "cells": [
  {
   "cell_type": "markdown",
   "metadata": {},
   "source": [
    "Radiance Group Consulting\n",
    "\n",
    "Graded Assignment- Time Critical, Mission Oriented \n",
    "\n",
    " \n",
    "\n",
    "Radiance Group is a venture capital investing in early stage startups across the globe and has hired you as an analyst to perform data driven analysis to empower its investments through cutting edge insights.\n",
    "\n",
    " \n",
    "\n",
    "Crunchbase is a company providing business information about private and public companies. Their content includes investment and funding information, founding members and individuals in leadership positions, mergers and acquisitions, news, and industry trends.\n",
    "\n",
    " \n",
    "\n",
    "Today, we are going to work on this interesting statistical consulting assignment that corresponds to data from Crunchbase and attempts to answer questions for Radiance Group. The dataset can be accessed from the linkLinks to an external site..\n",
    "\n",
    " \n",
    "\n",
    "Instructions for the assignment\n",
    "\n",
    " \n",
    "\n",
    "Data preparation: Download the data file and read it in a Jupyter-notebook using pandas.  Perform any operations that you consider necessary to go forward analysing this dataset but do not forget to report your observations in writing for every such operations.\n",
    "Measuring Central Tendency and Spread: Identify the variables associated with total funding raised by a startup and the number of funding rounds in the aforesaid dataset and analyse them using various methods of central tendency and measures of spread. Describe your results and explain the type of variables observed.\n",
    "Outlier analysis: Examine the aforesaid two variables in Question 2 for possible outliers. You have to identify the cutoff values of those outliers on both ends. Then perform the following operations to understand your extreme observations-\n",
    "\n",
    "A. Drop the outliers from the dataset and repeat the procedure in Question 2 to draw conclusions. Report your observations extensively and in as much detail as possible.\n",
    "\n",
    "B. Impute the outliers in the dataset with the value of mean and repeat the procedure in Question 2 to draw conclusions. Report in writing your observations extensively and in as much detail as possible.\n",
    "\n",
    "\n",
    "C. Replace the outliers in the dataset with the maximum value or minimum value possible by applying capping method. It means that you have to find the maximum and minimum values for your variables by doing the following-\n",
    "\n",
    "Maximum value = Mean + 3 units of Standard Deviation,\n",
    "Minimum value  = Mean - 3 units of Standard Deviation.\n",
    "\n",
    "Once you have found these maximum and minimum values, you will have to replace all the values in your variables greater than maximum value by the maximum value and same for minimum value. Thereafter repeat the procedure in Question 2 and draw conclusions. Again, write your observations extensively and in as much detail as possible.\n",
    "\n",
    "Hint: You can identify the outliers using the Inter-Quartile Range (IQR) method and explain which of the method you prefer (also doing a comparative analysis of various values found while applying the three methods) and why to treat outliers. Create appropriate plots (if necessary) to explain the results of the different methods.\n",
    "\n",
    "Sampling Techniques: Choose any of the aforesaid outlier treatment method in the Question 3 and draw a random sample of a desired size, say, 1000. Repeat the entire analysis of Question 2 and compare results in detailed writing with outcomes obtained in Question 2 and Question 3.\n",
    "Subsetting and Sampling: Segment your dataset from Question 3 to get companies based only in United States and this time draw a series of samples randomly of a sufficient size, say, 10, 50, 100, 500, and 1000. Next, analyse the total funding amount for these startups based in United States using various methods of central tendency and measures of spread and report your observations.\n",
    "Subsetting, Sampling, Benchmarking and Visualisation: Segment your dataset from Question 3 and this time draw a sample randomly of a sufficient size, say, 100 to get companies based in each of the United States, Canada, France, Germany, China, India and South Korea. Next, analyse the same dataset to find average number of days taken for a startup to be funded for each of the aforesaid countries and compare results (While making necessary computations, assume that there are 30 days in each month at an average). Analyse the numerical variable(s) for each of the countries using various measures of central tendencies and spread and report your observations. Create appropriate plots (if necessary) to explain the variables.\n",
    "Probability Theory: Find the probability for startups of being funded within the first 6 months since their creation for the overall dataset and then repeat the same sequence of procedures for the countries United States, Canada, France, Germany, China, and India (While making necessary computations, assume that there are 30 days in each month at an average). Report your results in writing and compare them varying across various geographies. Create appropriate plots (if necessary) to draw conclusions if necessary.\n",
    "Advanced Probability Theory: Find the probability for startups of being funded within the first 6 months given the fact that they are based on software domain and then repeat the same sequence of procedures for the countries United States, Canada, France, Germany, China, and India(Use the value ‘Software’ in the appropriate variable of your choice).\n",
    "Advanced Probability Theory: Find the probability that a startup belongs to health care domain given the fact that it was funded within the first 6 months and then repeat the same sequence of procedures for the countries United States, Canada, France, Germany, China, and India (Use the value ‘Health Care’ in the appropriate variable of your choice). Report your results based on probability found as a whole and then comparison across various countries.\n",
    " \n",
    "\n",
    "Advanced Probability Theory: Repeat the analysis in Question 8 but this time perform the operation by first sampling your dataset randomly by getting only 10 data points in the beginning and report your observations as that in Question 8. Next, attempt to repeat the aforesaid procedure for dataset of increasing sample size of 50, 100, 200, 300, 400, 500, 600, and 800. Plot the various probabilities observed against the number of data points you have obtained and write in your own words the observations. "
   ]
  }
 ],
 "metadata": {
  "language_info": {
   "name": "python"
  }
 },
 "nbformat": 4,
 "nbformat_minor": 2
}
