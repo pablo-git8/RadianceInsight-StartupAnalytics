{
 "cells": [
  {
   "cell_type": "code",
   "execution_count": 1,
   "metadata": {},
   "outputs": [],
   "source": [
    "# Imports\n",
    "import pandas as pd\n",
    "import numpy as np\n",
    "from sklearn.feature_extraction.text import TfidfVectorizer\n",
    "from sklearn.cluster import KMeans\n",
    "import matplotlib.pyplot as plt\n",
    "import json\n",
    "import seaborn as sns\n",
    "from datetime import datetime, timedelta\n",
    "\n",
    "# Helper functions and variables created for the project\n",
    "from helper_functions import create_bucket_df\n",
    "import helper_variables\n",
    "\n",
    "# Magic commands for visualization\n",
    "%matplotlib inline"
   ]
  },
  {
   "cell_type": "markdown",
   "metadata": {},
   "source": [
    "Getting the URL where the CSV file is stored in the GitHub repository"
   ]
  },
  {
   "cell_type": "code",
   "execution_count": 2,
   "metadata": {},
   "outputs": [],
   "source": [
    "url = 'https://raw.githubusercontent.com/notpeter/crunchbase-data/master/companies.csv'"
   ]
  },
  {
   "cell_type": "markdown",
   "metadata": {},
   "source": [
    "Loading the CSV file into a DataFrame"
   ]
  },
  {
   "cell_type": "code",
   "execution_count": 3,
   "metadata": {},
   "outputs": [],
   "source": [
    "crunchbase_df = pd.read_csv(url)\n",
    "crunchbase_df.to_csv('data/startup_raw_data.csv')"
   ]
  },
  {
   "cell_type": "markdown",
   "metadata": {},
   "source": [
    "Initial Data Exploration"
   ]
  },
  {
   "cell_type": "code",
   "execution_count": 4,
   "metadata": {},
   "outputs": [
    {
     "data": {
      "text/html": [
       "<div>\n",
       "<style scoped>\n",
       "    .dataframe tbody tr th:only-of-type {\n",
       "        vertical-align: middle;\n",
       "    }\n",
       "\n",
       "    .dataframe tbody tr th {\n",
       "        vertical-align: top;\n",
       "    }\n",
       "\n",
       "    .dataframe thead th {\n",
       "        text-align: right;\n",
       "    }\n",
       "</style>\n",
       "<table border=\"1\" class=\"dataframe\">\n",
       "  <thead>\n",
       "    <tr style=\"text-align: right;\">\n",
       "      <th></th>\n",
       "      <th>permalink</th>\n",
       "      <th>name</th>\n",
       "      <th>homepage_url</th>\n",
       "      <th>category_list</th>\n",
       "      <th>funding_total_usd</th>\n",
       "      <th>status</th>\n",
       "      <th>country_code</th>\n",
       "      <th>state_code</th>\n",
       "      <th>region</th>\n",
       "      <th>city</th>\n",
       "      <th>funding_rounds</th>\n",
       "      <th>founded_at</th>\n",
       "      <th>first_funding_at</th>\n",
       "      <th>last_funding_at</th>\n",
       "    </tr>\n",
       "  </thead>\n",
       "  <tbody>\n",
       "    <tr>\n",
       "      <th>0</th>\n",
       "      <td>/organization/-fame</td>\n",
       "      <td>#fame</td>\n",
       "      <td>http://livfame.com</td>\n",
       "      <td>Media</td>\n",
       "      <td>10000000</td>\n",
       "      <td>operating</td>\n",
       "      <td>IND</td>\n",
       "      <td>16</td>\n",
       "      <td>Mumbai</td>\n",
       "      <td>Mumbai</td>\n",
       "      <td>1</td>\n",
       "      <td>NaN</td>\n",
       "      <td>2015-01-05</td>\n",
       "      <td>2015-01-05</td>\n",
       "    </tr>\n",
       "    <tr>\n",
       "      <th>1</th>\n",
       "      <td>/organization/-qounter</td>\n",
       "      <td>:Qounter</td>\n",
       "      <td>http://www.qounter.com</td>\n",
       "      <td>Application Platforms|Real Time|Social Network...</td>\n",
       "      <td>700000</td>\n",
       "      <td>operating</td>\n",
       "      <td>USA</td>\n",
       "      <td>DE</td>\n",
       "      <td>DE - Other</td>\n",
       "      <td>Delaware City</td>\n",
       "      <td>2</td>\n",
       "      <td>2014-09-04</td>\n",
       "      <td>2014-03-01</td>\n",
       "      <td>2014-10-14</td>\n",
       "    </tr>\n",
       "    <tr>\n",
       "      <th>2</th>\n",
       "      <td>/organization/-the-one-of-them-inc-</td>\n",
       "      <td>(THE) ONE of THEM,Inc.</td>\n",
       "      <td>http://oneofthem.jp</td>\n",
       "      <td>Apps|Games|Mobile</td>\n",
       "      <td>3406878</td>\n",
       "      <td>operating</td>\n",
       "      <td>NaN</td>\n",
       "      <td>NaN</td>\n",
       "      <td>NaN</td>\n",
       "      <td>NaN</td>\n",
       "      <td>1</td>\n",
       "      <td>NaN</td>\n",
       "      <td>2014-01-30</td>\n",
       "      <td>2014-01-30</td>\n",
       "    </tr>\n",
       "    <tr>\n",
       "      <th>3</th>\n",
       "      <td>/organization/0-6-com</td>\n",
       "      <td>0-6.com</td>\n",
       "      <td>http://www.0-6.com</td>\n",
       "      <td>Curated Web</td>\n",
       "      <td>2000000</td>\n",
       "      <td>operating</td>\n",
       "      <td>CHN</td>\n",
       "      <td>22</td>\n",
       "      <td>Beijing</td>\n",
       "      <td>Beijing</td>\n",
       "      <td>1</td>\n",
       "      <td>2007-01-01</td>\n",
       "      <td>2008-03-19</td>\n",
       "      <td>2008-03-19</td>\n",
       "    </tr>\n",
       "    <tr>\n",
       "      <th>4</th>\n",
       "      <td>/organization/004-technologies</td>\n",
       "      <td>004 Technologies</td>\n",
       "      <td>http://004gmbh.de/en/004-interact</td>\n",
       "      <td>Software</td>\n",
       "      <td>-</td>\n",
       "      <td>operating</td>\n",
       "      <td>USA</td>\n",
       "      <td>IL</td>\n",
       "      <td>Springfield, Illinois</td>\n",
       "      <td>Champaign</td>\n",
       "      <td>1</td>\n",
       "      <td>2010-01-01</td>\n",
       "      <td>2014-07-24</td>\n",
       "      <td>2014-07-24</td>\n",
       "    </tr>\n",
       "  </tbody>\n",
       "</table>\n",
       "</div>"
      ],
      "text/plain": [
       "                             permalink                    name  \\\n",
       "0                  /organization/-fame                   #fame   \n",
       "1               /organization/-qounter                :Qounter   \n",
       "2  /organization/-the-one-of-them-inc-  (THE) ONE of THEM,Inc.   \n",
       "3                /organization/0-6-com                 0-6.com   \n",
       "4       /organization/004-technologies        004 Technologies   \n",
       "\n",
       "                        homepage_url  \\\n",
       "0                 http://livfame.com   \n",
       "1             http://www.qounter.com   \n",
       "2                http://oneofthem.jp   \n",
       "3                 http://www.0-6.com   \n",
       "4  http://004gmbh.de/en/004-interact   \n",
       "\n",
       "                                       category_list funding_total_usd  \\\n",
       "0                                              Media          10000000   \n",
       "1  Application Platforms|Real Time|Social Network...            700000   \n",
       "2                                  Apps|Games|Mobile           3406878   \n",
       "3                                        Curated Web           2000000   \n",
       "4                                           Software                 -   \n",
       "\n",
       "      status country_code state_code                 region           city  \\\n",
       "0  operating          IND         16                 Mumbai         Mumbai   \n",
       "1  operating          USA         DE             DE - Other  Delaware City   \n",
       "2  operating          NaN        NaN                    NaN            NaN   \n",
       "3  operating          CHN         22                Beijing        Beijing   \n",
       "4  operating          USA         IL  Springfield, Illinois      Champaign   \n",
       "\n",
       "   funding_rounds  founded_at first_funding_at last_funding_at  \n",
       "0               1         NaN       2015-01-05      2015-01-05  \n",
       "1               2  2014-09-04       2014-03-01      2014-10-14  \n",
       "2               1         NaN       2014-01-30      2014-01-30  \n",
       "3               1  2007-01-01       2008-03-19      2008-03-19  \n",
       "4               1  2010-01-01       2014-07-24      2014-07-24  "
      ]
     },
     "execution_count": 4,
     "metadata": {},
     "output_type": "execute_result"
    }
   ],
   "source": [
    "crunchbase_df.head()"
   ]
  },
  {
   "cell_type": "code",
   "execution_count": 5,
   "metadata": {},
   "outputs": [
    {
     "name": "stdout",
     "output_type": "stream",
     "text": [
      "<class 'pandas.core.frame.DataFrame'>\n",
      "RangeIndex: 66368 entries, 0 to 66367\n",
      "Data columns (total 14 columns):\n",
      " #   Column             Non-Null Count  Dtype \n",
      "---  ------             --------------  ----- \n",
      " 0   permalink          66368 non-null  object\n",
      " 1   name               66367 non-null  object\n",
      " 2   homepage_url       61310 non-null  object\n",
      " 3   category_list      63220 non-null  object\n",
      " 4   funding_total_usd  66368 non-null  object\n",
      " 5   status             66368 non-null  object\n",
      " 6   country_code       59410 non-null  object\n",
      " 7   state_code         57821 non-null  object\n",
      " 8   region             58338 non-null  object\n",
      " 9   city               58340 non-null  object\n",
      " 10  funding_rounds     66368 non-null  int64 \n",
      " 11  founded_at         51147 non-null  object\n",
      " 12  first_funding_at   66344 non-null  object\n",
      " 13  last_funding_at    66368 non-null  object\n",
      "dtypes: int64(1), object(13)\n",
      "memory usage: 7.1+ MB\n"
     ]
    }
   ],
   "source": [
    "crunchbase_df.info()"
   ]
  },
  {
   "cell_type": "markdown",
   "metadata": {},
   "source": [
    "| Variable Name        | Description                                                  | Current Data Type | Expected Data Type  | Detected Missing Values   |\n",
    "|----------------------|--------------------------------------------------------------|-------------------|---------------------|------------------|\n",
    "| `permalink`          | Unique identifier for each company                           | object            | object (string)     | 0                |\n",
    "| `name`               | Name of the startup                                          | object            | object (string)     | 1                |\n",
    "| `homepage_url`       | Website of the company                                       | object            | object (string)     | 5058             |\n",
    "| `category_list`      | Sectors or industries the company operates in                | object            | object (string)     | 3148             |\n",
    "| `funding_total_usd`  | Total amount of funding received in USD                      | object            | **numeric (float/int)** | 0                |\n",
    "| `status`             | Current operational status of the company (e.g., operating)  | object            | object (string)     | 0                |\n",
    "| `country_code`       | Country where the company is based                           | object            | object (string)     | 6958             |\n",
    "| `state_code`         | State or region within the country where the company is located | object          | object (string)     | 8547             |\n",
    "| `region`             | More specific geographical designation (often a city or area) | object            | object (string)     | 8030             |\n",
    "| `city`               | City where the company is based                              | object            | object (string)     | 8028             |\n",
    "| `funding_rounds`     | Number of rounds of funding the company has gone through     | int64             | int64               | 0                |\n",
    "| `founded_at`         | Date when the company was founded                            | object            | **datetime**            | 15221            |\n",
    "| `first_funding_at`   | Date when the company received its first round of funding    | object            | **datetime**            | 24               |\n",
    "| `last_funding_at`    | Date of the latest funding round                             | object            | **datetime**            | 0                |\n",
    "\n"
   ]
  },
  {
   "cell_type": "markdown",
   "metadata": {},
   "source": [
    "### Name Processing"
   ]
  },
  {
   "cell_type": "markdown",
   "metadata": {},
   "source": [
    "We see there is only one missing value in the name, so we can inspect it."
   ]
  },
  {
   "cell_type": "code",
   "execution_count": 6,
   "metadata": {},
   "outputs": [
    {
     "data": {
      "text/html": [
       "<div>\n",
       "<style scoped>\n",
       "    .dataframe tbody tr th:only-of-type {\n",
       "        vertical-align: middle;\n",
       "    }\n",
       "\n",
       "    .dataframe tbody tr th {\n",
       "        vertical-align: top;\n",
       "    }\n",
       "\n",
       "    .dataframe thead th {\n",
       "        text-align: right;\n",
       "    }\n",
       "</style>\n",
       "<table border=\"1\" class=\"dataframe\">\n",
       "  <thead>\n",
       "    <tr style=\"text-align: right;\">\n",
       "      <th></th>\n",
       "      <th>permalink</th>\n",
       "      <th>name</th>\n",
       "      <th>homepage_url</th>\n",
       "      <th>category_list</th>\n",
       "      <th>funding_total_usd</th>\n",
       "      <th>status</th>\n",
       "      <th>country_code</th>\n",
       "      <th>state_code</th>\n",
       "      <th>region</th>\n",
       "      <th>city</th>\n",
       "      <th>funding_rounds</th>\n",
       "      <th>founded_at</th>\n",
       "      <th>first_funding_at</th>\n",
       "      <th>last_funding_at</th>\n",
       "    </tr>\n",
       "  </thead>\n",
       "  <tbody>\n",
       "    <tr>\n",
       "      <th>56916</th>\n",
       "      <td>/organization/tell-it-in</td>\n",
       "      <td>NaN</td>\n",
       "      <td>http://tellitin10.com</td>\n",
       "      <td>Startups</td>\n",
       "      <td>25000</td>\n",
       "      <td>closed</td>\n",
       "      <td>USA</td>\n",
       "      <td>OR</td>\n",
       "      <td>Portland, Oregon</td>\n",
       "      <td>Portland</td>\n",
       "      <td>1</td>\n",
       "      <td>2011-10-01</td>\n",
       "      <td>2012-03-01</td>\n",
       "      <td>2012-03-01</td>\n",
       "    </tr>\n",
       "  </tbody>\n",
       "</table>\n",
       "</div>"
      ],
      "text/plain": [
       "                      permalink name           homepage_url category_list  \\\n",
       "56916  /organization/tell-it-in  NaN  http://tellitin10.com      Startups   \n",
       "\n",
       "      funding_total_usd  status country_code state_code            region  \\\n",
       "56916             25000  closed          USA         OR  Portland, Oregon   \n",
       "\n",
       "           city  funding_rounds  founded_at first_funding_at last_funding_at  \n",
       "56916  Portland               1  2011-10-01       2012-03-01      2012-03-01  "
      ]
     },
     "execution_count": 6,
     "metadata": {},
     "output_type": "execute_result"
    }
   ],
   "source": [
    "crunchbase_df[crunchbase_df['name'].isnull()]"
   ]
  },
  {
   "cell_type": "code",
   "execution_count": 7,
   "metadata": {},
   "outputs": [],
   "source": [
    "crunchbase_df['name'] = crunchbase_df['name'].fillna(\"TellItIn\")"
   ]
  },
  {
   "cell_type": "code",
   "execution_count": 8,
   "metadata": {},
   "outputs": [
    {
     "data": {
      "text/html": [
       "<div>\n",
       "<style scoped>\n",
       "    .dataframe tbody tr th:only-of-type {\n",
       "        vertical-align: middle;\n",
       "    }\n",
       "\n",
       "    .dataframe tbody tr th {\n",
       "        vertical-align: top;\n",
       "    }\n",
       "\n",
       "    .dataframe thead th {\n",
       "        text-align: right;\n",
       "    }\n",
       "</style>\n",
       "<table border=\"1\" class=\"dataframe\">\n",
       "  <thead>\n",
       "    <tr style=\"text-align: right;\">\n",
       "      <th></th>\n",
       "      <th>permalink</th>\n",
       "      <th>name</th>\n",
       "      <th>homepage_url</th>\n",
       "      <th>category_list</th>\n",
       "      <th>funding_total_usd</th>\n",
       "      <th>status</th>\n",
       "      <th>country_code</th>\n",
       "      <th>state_code</th>\n",
       "      <th>region</th>\n",
       "      <th>city</th>\n",
       "      <th>funding_rounds</th>\n",
       "      <th>founded_at</th>\n",
       "      <th>first_funding_at</th>\n",
       "      <th>last_funding_at</th>\n",
       "    </tr>\n",
       "  </thead>\n",
       "  <tbody>\n",
       "    <tr>\n",
       "      <th>56916</th>\n",
       "      <td>/organization/tell-it-in</td>\n",
       "      <td>TellItIn</td>\n",
       "      <td>http://tellitin10.com</td>\n",
       "      <td>Startups</td>\n",
       "      <td>25000</td>\n",
       "      <td>closed</td>\n",
       "      <td>USA</td>\n",
       "      <td>OR</td>\n",
       "      <td>Portland, Oregon</td>\n",
       "      <td>Portland</td>\n",
       "      <td>1</td>\n",
       "      <td>2011-10-01</td>\n",
       "      <td>2012-03-01</td>\n",
       "      <td>2012-03-01</td>\n",
       "    </tr>\n",
       "  </tbody>\n",
       "</table>\n",
       "</div>"
      ],
      "text/plain": [
       "                      permalink      name           homepage_url  \\\n",
       "56916  /organization/tell-it-in  TellItIn  http://tellitin10.com   \n",
       "\n",
       "      category_list funding_total_usd  status country_code state_code  \\\n",
       "56916      Startups             25000  closed          USA         OR   \n",
       "\n",
       "                 region      city  funding_rounds  founded_at  \\\n",
       "56916  Portland, Oregon  Portland               1  2011-10-01   \n",
       "\n",
       "      first_funding_at last_funding_at  \n",
       "56916       2012-03-01      2012-03-01  "
      ]
     },
     "execution_count": 8,
     "metadata": {},
     "output_type": "execute_result"
    }
   ],
   "source": [
    "crunchbase_df[crunchbase_df['name'] == 'TellItIn']"
   ]
  },
  {
   "cell_type": "code",
   "execution_count": 9,
   "metadata": {},
   "outputs": [
    {
     "data": {
      "text/html": [
       "<div>\n",
       "<style scoped>\n",
       "    .dataframe tbody tr th:only-of-type {\n",
       "        vertical-align: middle;\n",
       "    }\n",
       "\n",
       "    .dataframe tbody tr th {\n",
       "        vertical-align: top;\n",
       "    }\n",
       "\n",
       "    .dataframe thead th {\n",
       "        text-align: right;\n",
       "    }\n",
       "</style>\n",
       "<table border=\"1\" class=\"dataframe\">\n",
       "  <thead>\n",
       "    <tr style=\"text-align: right;\">\n",
       "      <th></th>\n",
       "      <th>permalink</th>\n",
       "      <th>name</th>\n",
       "      <th>homepage_url</th>\n",
       "      <th>category_list</th>\n",
       "      <th>funding_total_usd</th>\n",
       "      <th>status</th>\n",
       "      <th>country_code</th>\n",
       "      <th>state_code</th>\n",
       "      <th>region</th>\n",
       "      <th>city</th>\n",
       "      <th>funding_rounds</th>\n",
       "      <th>founded_at</th>\n",
       "      <th>first_funding_at</th>\n",
       "      <th>last_funding_at</th>\n",
       "    </tr>\n",
       "  </thead>\n",
       "  <tbody>\n",
       "  </tbody>\n",
       "</table>\n",
       "</div>"
      ],
      "text/plain": [
       "Empty DataFrame\n",
       "Columns: [permalink, name, homepage_url, category_list, funding_total_usd, status, country_code, state_code, region, city, funding_rounds, founded_at, first_funding_at, last_funding_at]\n",
       "Index: []"
      ]
     },
     "execution_count": 9,
     "metadata": {},
     "output_type": "execute_result"
    }
   ],
   "source": [
    "crunchbase_df[crunchbase_df['name'].isnull()]"
   ]
  },
  {
   "cell_type": "markdown",
   "metadata": {},
   "source": [
    "### Homepage URL"
   ]
  },
  {
   "cell_type": "markdown",
   "metadata": {},
   "source": [
    "Not provided urls can be processed as not specified since we are hardly using that variable for anything"
   ]
  },
  {
   "cell_type": "code",
   "execution_count": 10,
   "metadata": {},
   "outputs": [],
   "source": [
    "crunchbase_df['homepage_url'] = crunchbase_df['homepage_url'].fillna('Unkown')"
   ]
  },
  {
   "cell_type": "markdown",
   "metadata": {},
   "source": [
    "### funding_total_usd Processing"
   ]
  },
  {
   "cell_type": "markdown",
   "metadata": {},
   "source": [
    "Convert the Column to Numeric: Use pd.to_numeric(), setting the errors argument to 'coerce'. This will convert non-numeric values to NaN."
   ]
  },
  {
   "cell_type": "code",
   "execution_count": 11,
   "metadata": {},
   "outputs": [
    {
     "name": "stdout",
     "output_type": "stream",
     "text": [
      "Non-numeric values found:\n",
      "['-']\n",
      "There are 12785 non-numeric values in total_funding_usd column\n"
     ]
    }
   ],
   "source": [
    "# Convert to numeric, coercing errors to NaN\n",
    "numeric_column = pd.to_numeric(crunchbase_df['funding_total_usd'], errors='coerce')\n",
    "\n",
    "# Create a boolean mask for rows that couldn't be converted (are NaN in numeric_column)\n",
    "non_numeric_mask = numeric_column.isna()\n",
    "\n",
    "# Display the original values in these rows\n",
    "non_numeric_values = crunchbase_df['funding_total_usd'][non_numeric_mask]\n",
    "\n",
    "# Check if there are any non-numeric values and display them\n",
    "if non_numeric_values.empty:\n",
    "    print(\"All values are numeric.\")\n",
    "else:\n",
    "    print(\"Non-numeric values found:\")\n",
    "    print(non_numeric_values.unique())\n",
    "    print(f'There are {len(non_numeric_values)} non-numeric values in total_funding_usd column')"
   ]
  },
  {
   "cell_type": "markdown",
   "metadata": {},
   "source": [
    "In order to decid wwhat to do with the funding_total_usd column, we need to check if other data can provide us with more information about this variables, so we will be lokking at the first funding and last funding on those row and see if the dates matches. This would mean that the amount is zero sinc ethe ffirst funding equals the last funding, meaning a zero funding."
   ]
  },
  {
   "cell_type": "code",
   "execution_count": 12,
   "metadata": {},
   "outputs": [
    {
     "data": {
      "text/plain": [
       "Index([    4,    10,    11,    12,    22,    33,    38,    39,    43,    45,\n",
       "       ...\n",
       "       66307, 66311, 66316, 66333, 66335, 66345, 66346, 66347, 66351, 66365],\n",
       "      dtype='int64', length=12785)"
      ]
     },
     "execution_count": 12,
     "metadata": {},
     "output_type": "execute_result"
    }
   ],
   "source": [
    "non_numeric_values.index"
   ]
  },
  {
   "cell_type": "code",
   "execution_count": 13,
   "metadata": {},
   "outputs": [
    {
     "name": "stdout",
     "output_type": "stream",
     "text": [
      "Values matching the hypothesis: 12785\n",
      "In rows where total_funding_usd colum == '-', 'first_funding_at' and 'last_funding_at' dates are the same: -> True\n"
     ]
    }
   ],
   "source": [
    "# Filter the DataFrame to only include your specific rows\n",
    "crhbase_filtered_df = crunchbase_df.loc[non_numeric_values.index]\n",
    "\n",
    "# Check if the values in the two columns match\n",
    "matches = crhbase_filtered_df['first_funding_at'] == crhbase_filtered_df['last_funding_at']\n",
    "\n",
    "# You can now view or use 'matches', which is a Series of True/False values\n",
    "print(f\"Values matching the hypothesis: {len(matches)}\")\n",
    "\n",
    "print(f\"In rows where total_funding_usd colum == '-', 'first_funding_at' and 'last_funding_at' dates are the same: -> {(len(matches) == len(non_numeric_values))}\")"
   ]
  },
  {
   "cell_type": "markdown",
   "metadata": {},
   "source": [
    "This confirm the hypothesis and lt us assign those values as 0 due to the real world significance and consistency with the test"
   ]
  },
  {
   "cell_type": "code",
   "execution_count": 14,
   "metadata": {},
   "outputs": [],
   "source": [
    "# Replace '-' with 0 in the specified column If you need the column to be numeric (e.g., float or int), you can convert it after replacement\n",
    "crunchbase_df['funding_total_usd'] = pd.to_numeric(crunchbase_df['funding_total_usd'].replace('-', 0))"
   ]
  },
  {
   "cell_type": "markdown",
   "metadata": {},
   "source": [
    "### Category List Processing"
   ]
  },
  {
   "cell_type": "code",
   "execution_count": 15,
   "metadata": {},
   "outputs": [
    {
     "data": {
      "text/plain": [
       "array(['Media', 'Application Platforms|Real Time|Social Network Media',\n",
       "       'Apps|Games|Mobile', ...,\n",
       "       'Advertising|Mobile|Web Development|Wireless',\n",
       "       'Consumer Electronics|Internet of Things|Telecommunications',\n",
       "       'Consumer Goods|E-Commerce|Internet'], dtype=object)"
      ]
     },
     "execution_count": 15,
     "metadata": {},
     "output_type": "execute_result"
    }
   ],
   "source": [
    "crunchbase_df['category_list'].unique()"
   ]
  },
  {
   "cell_type": "code",
   "execution_count": 16,
   "metadata": {},
   "outputs": [
    {
     "data": {
      "text/plain": [
       "27296"
      ]
     },
     "execution_count": 16,
     "metadata": {},
     "output_type": "execute_result"
    }
   ],
   "source": [
    "crunchbase_df['category_list'].nunique()"
   ]
  },
  {
   "cell_type": "code",
   "execution_count": 17,
   "metadata": {},
   "outputs": [],
   "source": [
    "crunchbase_df['category_list'] = crunchbase_df['category_list'].fillna('Not Specified')"
   ]
  },
  {
   "cell_type": "code",
   "execution_count": 18,
   "metadata": {},
   "outputs": [],
   "source": [
    "category_stack_series = crunchbase_df['category_list'].str.split('|', expand=True).stack()"
   ]
  },
  {
   "cell_type": "code",
   "execution_count": 19,
   "metadata": {},
   "outputs": [],
   "source": [
    "category_one_hot_encoded = pd.get_dummies(category_stack_series, prefix=None).groupby(level=0).sum()"
   ]
  },
  {
   "cell_type": "code",
   "execution_count": 20,
   "metadata": {},
   "outputs": [
    {
     "data": {
      "text/html": [
       "<div>\n",
       "<style scoped>\n",
       "    .dataframe tbody tr th:only-of-type {\n",
       "        vertical-align: middle;\n",
       "    }\n",
       "\n",
       "    .dataframe tbody tr th {\n",
       "        vertical-align: top;\n",
       "    }\n",
       "\n",
       "    .dataframe thead th {\n",
       "        text-align: right;\n",
       "    }\n",
       "</style>\n",
       "<table border=\"1\" class=\"dataframe\">\n",
       "  <thead>\n",
       "    <tr style=\"text-align: right;\">\n",
       "      <th></th>\n",
       "      <th>3D</th>\n",
       "      <th>3D Printing</th>\n",
       "      <th>3D Technology</th>\n",
       "      <th>Accounting</th>\n",
       "      <th>Active Lifestyle</th>\n",
       "      <th>Ad Targeting</th>\n",
       "      <th>Adaptive Equipment</th>\n",
       "      <th>Advanced Materials</th>\n",
       "      <th>Adventure Travel</th>\n",
       "      <th>Advertising</th>\n",
       "      <th>...</th>\n",
       "      <th>Wine And Spirits</th>\n",
       "      <th>Wireless</th>\n",
       "      <th>Women</th>\n",
       "      <th>Writers</th>\n",
       "      <th>Young Adults</th>\n",
       "      <th>iOS</th>\n",
       "      <th>iPad</th>\n",
       "      <th>iPhone</th>\n",
       "      <th>iPod Touch</th>\n",
       "      <th>mHealth</th>\n",
       "    </tr>\n",
       "  </thead>\n",
       "  <tbody>\n",
       "    <tr>\n",
       "      <th>0</th>\n",
       "      <td>0</td>\n",
       "      <td>0</td>\n",
       "      <td>0</td>\n",
       "      <td>0</td>\n",
       "      <td>0</td>\n",
       "      <td>0</td>\n",
       "      <td>0</td>\n",
       "      <td>0</td>\n",
       "      <td>0</td>\n",
       "      <td>0</td>\n",
       "      <td>...</td>\n",
       "      <td>0</td>\n",
       "      <td>0</td>\n",
       "      <td>0</td>\n",
       "      <td>0</td>\n",
       "      <td>0</td>\n",
       "      <td>0</td>\n",
       "      <td>0</td>\n",
       "      <td>0</td>\n",
       "      <td>0</td>\n",
       "      <td>0</td>\n",
       "    </tr>\n",
       "    <tr>\n",
       "      <th>1</th>\n",
       "      <td>0</td>\n",
       "      <td>0</td>\n",
       "      <td>0</td>\n",
       "      <td>0</td>\n",
       "      <td>0</td>\n",
       "      <td>0</td>\n",
       "      <td>0</td>\n",
       "      <td>0</td>\n",
       "      <td>0</td>\n",
       "      <td>0</td>\n",
       "      <td>...</td>\n",
       "      <td>0</td>\n",
       "      <td>0</td>\n",
       "      <td>0</td>\n",
       "      <td>0</td>\n",
       "      <td>0</td>\n",
       "      <td>0</td>\n",
       "      <td>0</td>\n",
       "      <td>0</td>\n",
       "      <td>0</td>\n",
       "      <td>0</td>\n",
       "    </tr>\n",
       "    <tr>\n",
       "      <th>2</th>\n",
       "      <td>0</td>\n",
       "      <td>0</td>\n",
       "      <td>0</td>\n",
       "      <td>0</td>\n",
       "      <td>0</td>\n",
       "      <td>0</td>\n",
       "      <td>0</td>\n",
       "      <td>0</td>\n",
       "      <td>0</td>\n",
       "      <td>0</td>\n",
       "      <td>...</td>\n",
       "      <td>0</td>\n",
       "      <td>0</td>\n",
       "      <td>0</td>\n",
       "      <td>0</td>\n",
       "      <td>0</td>\n",
       "      <td>0</td>\n",
       "      <td>0</td>\n",
       "      <td>0</td>\n",
       "      <td>0</td>\n",
       "      <td>0</td>\n",
       "    </tr>\n",
       "    <tr>\n",
       "      <th>3</th>\n",
       "      <td>0</td>\n",
       "      <td>0</td>\n",
       "      <td>0</td>\n",
       "      <td>0</td>\n",
       "      <td>0</td>\n",
       "      <td>0</td>\n",
       "      <td>0</td>\n",
       "      <td>0</td>\n",
       "      <td>0</td>\n",
       "      <td>0</td>\n",
       "      <td>...</td>\n",
       "      <td>0</td>\n",
       "      <td>0</td>\n",
       "      <td>0</td>\n",
       "      <td>0</td>\n",
       "      <td>0</td>\n",
       "      <td>0</td>\n",
       "      <td>0</td>\n",
       "      <td>0</td>\n",
       "      <td>0</td>\n",
       "      <td>0</td>\n",
       "    </tr>\n",
       "    <tr>\n",
       "      <th>4</th>\n",
       "      <td>0</td>\n",
       "      <td>0</td>\n",
       "      <td>0</td>\n",
       "      <td>0</td>\n",
       "      <td>0</td>\n",
       "      <td>0</td>\n",
       "      <td>0</td>\n",
       "      <td>0</td>\n",
       "      <td>0</td>\n",
       "      <td>0</td>\n",
       "      <td>...</td>\n",
       "      <td>0</td>\n",
       "      <td>0</td>\n",
       "      <td>0</td>\n",
       "      <td>0</td>\n",
       "      <td>0</td>\n",
       "      <td>0</td>\n",
       "      <td>0</td>\n",
       "      <td>0</td>\n",
       "      <td>0</td>\n",
       "      <td>0</td>\n",
       "    </tr>\n",
       "  </tbody>\n",
       "</table>\n",
       "<p>5 rows × 859 columns</p>\n",
       "</div>"
      ],
      "text/plain": [
       "   3D  3D Printing  3D Technology  Accounting  Active Lifestyle  Ad Targeting  \\\n",
       "0   0            0              0           0                 0             0   \n",
       "1   0            0              0           0                 0             0   \n",
       "2   0            0              0           0                 0             0   \n",
       "3   0            0              0           0                 0             0   \n",
       "4   0            0              0           0                 0             0   \n",
       "\n",
       "   Adaptive Equipment  Advanced Materials  Adventure Travel  Advertising  ...  \\\n",
       "0                   0                   0                 0            0  ...   \n",
       "1                   0                   0                 0            0  ...   \n",
       "2                   0                   0                 0            0  ...   \n",
       "3                   0                   0                 0            0  ...   \n",
       "4                   0                   0                 0            0  ...   \n",
       "\n",
       "   Wine And Spirits  Wireless  Women  Writers  Young Adults  iOS  iPad  \\\n",
       "0                 0         0      0        0             0    0     0   \n",
       "1                 0         0      0        0             0    0     0   \n",
       "2                 0         0      0        0             0    0     0   \n",
       "3                 0         0      0        0             0    0     0   \n",
       "4                 0         0      0        0             0    0     0   \n",
       "\n",
       "   iPhone  iPod Touch  mHealth  \n",
       "0       0           0        0  \n",
       "1       0           0        0  \n",
       "2       0           0        0  \n",
       "3       0           0        0  \n",
       "4       0           0        0  \n",
       "\n",
       "[5 rows x 859 columns]"
      ]
     },
     "execution_count": 20,
     "metadata": {},
     "output_type": "execute_result"
    }
   ],
   "source": [
    "category_one_hot_encoded.head()"
   ]
  },
  {
   "cell_type": "code",
   "execution_count": 21,
   "metadata": {},
   "outputs": [],
   "source": [
    "crunchbase_cat_df = crunchbase_df.join(category_one_hot_encoded)"
   ]
  },
  {
   "cell_type": "code",
   "execution_count": 22,
   "metadata": {},
   "outputs": [
    {
     "name": "stdout",
     "output_type": "stream",
     "text": [
      "<class 'pandas.core.frame.DataFrame'>\n",
      "RangeIndex: 66368 entries, 0 to 66367\n",
      "Columns: 873 entries, permalink to mHealth\n",
      "dtypes: float64(1), int64(860), object(12)\n",
      "memory usage: 442.0+ MB\n"
     ]
    }
   ],
   "source": [
    "crunchbase_cat_df.info()"
   ]
  },
  {
   "cell_type": "code",
   "execution_count": 23,
   "metadata": {},
   "outputs": [
    {
     "data": {
      "text/plain": [
       "Index(['permalink', 'name', 'homepage_url', 'category_list',\n",
       "       'funding_total_usd', 'status', 'country_code', 'state_code', 'region',\n",
       "       'city',\n",
       "       ...\n",
       "       'Wine And Spirits', 'Wireless', 'Women', 'Writers', 'Young Adults',\n",
       "       'iOS', 'iPad', 'iPhone', 'iPod Touch', 'mHealth'],\n",
       "      dtype='object', length=873)"
      ]
     },
     "execution_count": 23,
     "metadata": {},
     "output_type": "execute_result"
    }
   ],
   "source": [
    "crunchbase_cat_df.columns"
   ]
  },
  {
   "cell_type": "markdown",
   "metadata": {},
   "source": [
    "Starting from the categories column onwards"
   ]
  },
  {
   "cell_type": "code",
   "execution_count": 24,
   "metadata": {},
   "outputs": [],
   "source": [
    "categories = crunchbase_cat_df.columns[14:]\n",
    "categories_processed = categories.str.lower().str.replace('[^a-z0-9]', ' ', regex=True)"
   ]
  },
  {
   "cell_type": "code",
   "execution_count": 25,
   "metadata": {},
   "outputs": [
    {
     "data": {
      "text/plain": [
       "Index(['3d', '3d printing', '3d technology', 'accounting', 'active lifestyle',\n",
       "       'ad targeting', 'adaptive equipment', 'advanced materials',\n",
       "       'adventure travel', 'advertising',\n",
       "       ...\n",
       "       'wine and spirits', 'wireless', 'women', 'writers', 'young adults',\n",
       "       'ios', 'ipad', 'iphone', 'ipod touch', 'mhealth'],\n",
       "      dtype='object', length=859)"
      ]
     },
     "execution_count": 25,
     "metadata": {},
     "output_type": "execute_result"
    }
   ],
   "source": [
    "categories_processed"
   ]
  },
  {
   "cell_type": "markdown",
   "metadata": {},
   "source": [
    "Applying basic NLP processing to explore how to handle this variable and bucket the categories in broader ones"
   ]
  },
  {
   "cell_type": "code",
   "execution_count": 26,
   "metadata": {},
   "outputs": [],
   "source": [
    "vectorizer = TfidfVectorizer(stop_words='english')"
   ]
  },
  {
   "cell_type": "code",
   "execution_count": 27,
   "metadata": {},
   "outputs": [
    {
     "data": {
      "text/html": [
       "<style>#sk-container-id-1 {color: black;}#sk-container-id-1 pre{padding: 0;}#sk-container-id-1 div.sk-toggleable {background-color: white;}#sk-container-id-1 label.sk-toggleable__label {cursor: pointer;display: block;width: 100%;margin-bottom: 0;padding: 0.3em;box-sizing: border-box;text-align: center;}#sk-container-id-1 label.sk-toggleable__label-arrow:before {content: \"▸\";float: left;margin-right: 0.25em;color: #696969;}#sk-container-id-1 label.sk-toggleable__label-arrow:hover:before {color: black;}#sk-container-id-1 div.sk-estimator:hover label.sk-toggleable__label-arrow:before {color: black;}#sk-container-id-1 div.sk-toggleable__content {max-height: 0;max-width: 0;overflow: hidden;text-align: left;background-color: #f0f8ff;}#sk-container-id-1 div.sk-toggleable__content pre {margin: 0.2em;color: black;border-radius: 0.25em;background-color: #f0f8ff;}#sk-container-id-1 input.sk-toggleable__control:checked~div.sk-toggleable__content {max-height: 200px;max-width: 100%;overflow: auto;}#sk-container-id-1 input.sk-toggleable__control:checked~label.sk-toggleable__label-arrow:before {content: \"▾\";}#sk-container-id-1 div.sk-estimator input.sk-toggleable__control:checked~label.sk-toggleable__label {background-color: #d4ebff;}#sk-container-id-1 div.sk-label input.sk-toggleable__control:checked~label.sk-toggleable__label {background-color: #d4ebff;}#sk-container-id-1 input.sk-hidden--visually {border: 0;clip: rect(1px 1px 1px 1px);clip: rect(1px, 1px, 1px, 1px);height: 1px;margin: -1px;overflow: hidden;padding: 0;position: absolute;width: 1px;}#sk-container-id-1 div.sk-estimator {font-family: monospace;background-color: #f0f8ff;border: 1px dotted black;border-radius: 0.25em;box-sizing: border-box;margin-bottom: 0.5em;}#sk-container-id-1 div.sk-estimator:hover {background-color: #d4ebff;}#sk-container-id-1 div.sk-parallel-item::after {content: \"\";width: 100%;border-bottom: 1px solid gray;flex-grow: 1;}#sk-container-id-1 div.sk-label:hover label.sk-toggleable__label {background-color: #d4ebff;}#sk-container-id-1 div.sk-serial::before {content: \"\";position: absolute;border-left: 1px solid gray;box-sizing: border-box;top: 0;bottom: 0;left: 50%;z-index: 0;}#sk-container-id-1 div.sk-serial {display: flex;flex-direction: column;align-items: center;background-color: white;padding-right: 0.2em;padding-left: 0.2em;position: relative;}#sk-container-id-1 div.sk-item {position: relative;z-index: 1;}#sk-container-id-1 div.sk-parallel {display: flex;align-items: stretch;justify-content: center;background-color: white;position: relative;}#sk-container-id-1 div.sk-item::before, #sk-container-id-1 div.sk-parallel-item::before {content: \"\";position: absolute;border-left: 1px solid gray;box-sizing: border-box;top: 0;bottom: 0;left: 50%;z-index: -1;}#sk-container-id-1 div.sk-parallel-item {display: flex;flex-direction: column;z-index: 1;position: relative;background-color: white;}#sk-container-id-1 div.sk-parallel-item:first-child::after {align-self: flex-end;width: 50%;}#sk-container-id-1 div.sk-parallel-item:last-child::after {align-self: flex-start;width: 50%;}#sk-container-id-1 div.sk-parallel-item:only-child::after {width: 0;}#sk-container-id-1 div.sk-dashed-wrapped {border: 1px dashed gray;margin: 0 0.4em 0.5em 0.4em;box-sizing: border-box;padding-bottom: 0.4em;background-color: white;}#sk-container-id-1 div.sk-label label {font-family: monospace;font-weight: bold;display: inline-block;line-height: 1.2em;}#sk-container-id-1 div.sk-label-container {text-align: center;}#sk-container-id-1 div.sk-container {/* jupyter's `normalize.less` sets `[hidden] { display: none; }` but bootstrap.min.css set `[hidden] { display: none !important; }` so we also need the `!important` here to be able to override the default hidden behavior on the sphinx rendered scikit-learn.org. See: https://github.com/scikit-learn/scikit-learn/issues/21755 */display: inline-block !important;position: relative;}#sk-container-id-1 div.sk-text-repr-fallback {display: none;}</style><div id=\"sk-container-id-1\" class=\"sk-top-container\"><div class=\"sk-text-repr-fallback\"><pre>TfidfVectorizer(stop_words=&#x27;english&#x27;)</pre><b>In a Jupyter environment, please rerun this cell to show the HTML representation or trust the notebook. <br />On GitHub, the HTML representation is unable to render, please try loading this page with nbviewer.org.</b></div><div class=\"sk-container\" hidden><div class=\"sk-item\"><div class=\"sk-estimator sk-toggleable\"><input class=\"sk-toggleable__control sk-hidden--visually\" id=\"sk-estimator-id-1\" type=\"checkbox\" checked><label for=\"sk-estimator-id-1\" class=\"sk-toggleable__label sk-toggleable__label-arrow\">TfidfVectorizer</label><div class=\"sk-toggleable__content\"><pre>TfidfVectorizer(stop_words=&#x27;english&#x27;)</pre></div></div></div></div></div>"
      ],
      "text/plain": [
       "TfidfVectorizer(stop_words='english')"
      ]
     },
     "execution_count": 27,
     "metadata": {},
     "output_type": "execute_result"
    }
   ],
   "source": [
    "vectorizer"
   ]
  },
  {
   "cell_type": "code",
   "execution_count": 28,
   "metadata": {},
   "outputs": [],
   "source": [
    "X = vectorizer.fit_transform(categories_processed)"
   ]
  },
  {
   "cell_type": "code",
   "execution_count": 29,
   "metadata": {},
   "outputs": [
    {
     "name": "stderr",
     "output_type": "stream",
     "text": [
      "c:\\Users\\pablo\\.conda\\envs\\python311\\Lib\\site-packages\\sklearn\\cluster\\_kmeans.py:1412: FutureWarning: The default value of `n_init` will change from 10 to 'auto' in 1.4. Set the value of `n_init` explicitly to suppress the warning\n",
      "  super()._check_params_vs_input(X, default_n_init=10)\n"
     ]
    },
    {
     "data": {
      "image/png": "[encoded data removed]",
      "text/plain": [
       "<Figure size 1200x600 with 1 Axes>"
      ]
     },
     "metadata": {},
     "output_type": "display_data"
    }
   ],
   "source": [
    "inertias = []\n",
    "K = range(1, 100)  # Adjust the range of k as needed\n",
    "\n",
    "# Calculate inertias for different k values\n",
    "for k in K:\n",
    "    kmeans = KMeans(n_clusters=k, random_state=1)\n",
    "    kmeans.fit(X)\n",
    "    inertias.append(kmeans.inertia_)\n",
    "\n",
    "# Plot the elbow graph\n",
    "plt.figure(figsize=(12, 6))\n",
    "plt.plot(K, inertias, 'bx-')\n",
    "plt.xlabel('Number of clusters (k)')\n",
    "plt.ylabel('Inertia')\n",
    "plt.title('Elbow Method For Optimal k')\n",
    "plt.show()"
   ]
  },
  {
   "cell_type": "markdown",
   "metadata": {},
   "source": [
    "Interpreting the Elbow Method graph involves looking for a point on the curve where the rate of decrease in inertia markedly slows down, indicating a diminishing return on the increase of the number of clusters (k). This elbow point is suggested to be the optimal number of clusters for the data.\n",
    "\n",
    "From the provided graph, there isn't a well-defined elbow, which sometimes happens in practice. The curve is quite smooth without a clear point where the inertia's rate of decrease changes abruptly. However, there are a few observations we can make:\n",
    "\n",
    "Gradual Decline: The inertia decreases as the number of clusters increases, which is expected. The rate of decrease is relatively smooth, suggesting that there is not a stark change in the data structure at any particular number of clusters within the range tested.\n",
    "\n",
    "Potential Range of k: In such cases where the elbow isn't distinct, one might look for 'kinks' or 'bends' in the curve for potential elbows. It seems there might be slight bends around k=10, k=20, and k=40, though these are not sharp elbows. You might consider these points for further inspection.\n",
    "\n",
    "Domain Knowledge: Without a clear elbow, it can be beneficial to apply domain knowledge or business understanding to decide on the number of clusters. For instance, if you know the data should naturally group into around 10-20 categories, you might choose a value in this range despite the lack of a clear elbow.\n",
    "\n",
    "Further Analysis: It might be helpful to use other methods in conjunction with the Elbow Method. For example, you could analyze the silhouette score, which measures how similar an object is to its own cluster compared to other clusters. A higher silhouette score indicates a model with better-defined clusters.\n",
    "\n",
    "Incremental Benefit: When the decrease in inertia begins to plateau, adding more clusters doesn't provide much additional benefit. You might select a number of clusters where this plateau starts to become more apparent, which might be around k=40 to k=60 in this case, even though the inertia continues to slowly decrease beyond this range.\n",
    "\n",
    "Computational Cost: As the number of clusters increases, so does the computational cost. If computation time or resources are a concern, you might choose a smaller k that still captures a reasonable amount of the data structure.\n",
    "\n",
    "In the absence of a clear elbow, it's often a judgment call, potentially informed by additional techniques and knowledge about the dataset. It's also important to remember that the Elbow Method is somewhat subjective, and the choice of k should ultimately be driven by the specific analytical goals and the interpretability of the clustering results."
   ]
  },
  {
   "cell_type": "code",
   "execution_count": 30,
   "metadata": {},
   "outputs": [],
   "source": [
    "category_list = list(categories)"
   ]
  },
  {
   "cell_type": "code",
   "execution_count": 31,
   "metadata": {},
   "outputs": [
    {
     "data": {
      "text/plain": [
       "859"
      ]
     },
     "execution_count": 31,
     "metadata": {},
     "output_type": "execute_result"
    }
   ],
   "source": [
    "len(category_list)"
   ]
  },
  {
   "cell_type": "code",
   "execution_count": 32,
   "metadata": {},
   "outputs": [
    {
     "data": {
      "text/plain": [
       "<Figure size 640x480 with 0 Axes>"
      ]
     },
     "metadata": {},
     "output_type": "display_data"
    }
   ],
   "source": [
    "%run 2_category_bucket_creation.py"
   ]
  },
  {
   "cell_type": "code",
   "execution_count": 33,
   "metadata": {},
   "outputs": [],
   "source": [
    "file_path = \"category_buckets.json\"\n",
    "\n",
    "# Load the JSON file into a dictionary\n",
    "with open(file_path, \"r\") as file:\n",
    "    categories_dictionary = json.load(file)"
   ]
  },
  {
   "cell_type": "code",
   "execution_count": 34,
   "metadata": {},
   "outputs": [],
   "source": [
    "crhbase_bucket_df = create_bucket_df(crunchbase_cat_df, categories_dictionary)\n",
    "crhbase_bucket_df = crhbase_bucket_df.drop(columns=['category_list'])"
   ]
  },
  {
   "cell_type": "code",
   "execution_count": 35,
   "metadata": {},
   "outputs": [
    {
     "data": {
      "text/html": [
       "<div>\n",
       "<style scoped>\n",
       "    .dataframe tbody tr th:only-of-type {\n",
       "        vertical-align: middle;\n",
       "    }\n",
       "\n",
       "    .dataframe tbody tr th {\n",
       "        vertical-align: top;\n",
       "    }\n",
       "\n",
       "    .dataframe thead th {\n",
       "        text-align: right;\n",
       "    }\n",
       "</style>\n",
       "<table border=\"1\" class=\"dataframe\">\n",
       "  <thead>\n",
       "    <tr style=\"text-align: right;\">\n",
       "      <th></th>\n",
       "      <th>permalink</th>\n",
       "      <th>name</th>\n",
       "      <th>homepage_url</th>\n",
       "      <th>funding_total_usd</th>\n",
       "      <th>status</th>\n",
       "      <th>country_code</th>\n",
       "      <th>state_code</th>\n",
       "      <th>region</th>\n",
       "      <th>city</th>\n",
       "      <th>funding_rounds</th>\n",
       "      <th>...</th>\n",
       "      <th>Animals and Vet</th>\n",
       "      <th>Real Estate, Property and Construction</th>\n",
       "      <th>Entertainment, Gaming and Social</th>\n",
       "      <th>Consumer Goods and Retail</th>\n",
       "      <th>Data and Cloud</th>\n",
       "      <th>Healthcare and Biotechnology</th>\n",
       "      <th>Mobile and Online Technology</th>\n",
       "      <th>Legal, Security and Governance</th>\n",
       "      <th>Event Management and Planning</th>\n",
       "      <th>Not Specified</th>\n",
       "    </tr>\n",
       "  </thead>\n",
       "  <tbody>\n",
       "    <tr>\n",
       "      <th>0</th>\n",
       "      <td>/organization/-fame</td>\n",
       "      <td>#fame</td>\n",
       "      <td>http://livfame.com</td>\n",
       "      <td>10000000.0</td>\n",
       "      <td>operating</td>\n",
       "      <td>IND</td>\n",
       "      <td>16</td>\n",
       "      <td>Mumbai</td>\n",
       "      <td>Mumbai</td>\n",
       "      <td>1</td>\n",
       "      <td>...</td>\n",
       "      <td>0</td>\n",
       "      <td>0</td>\n",
       "      <td>1</td>\n",
       "      <td>0</td>\n",
       "      <td>0</td>\n",
       "      <td>0</td>\n",
       "      <td>0</td>\n",
       "      <td>0</td>\n",
       "      <td>0</td>\n",
       "      <td>0</td>\n",
       "    </tr>\n",
       "    <tr>\n",
       "      <th>1</th>\n",
       "      <td>/organization/-qounter</td>\n",
       "      <td>:Qounter</td>\n",
       "      <td>http://www.qounter.com</td>\n",
       "      <td>700000.0</td>\n",
       "      <td>operating</td>\n",
       "      <td>USA</td>\n",
       "      <td>DE</td>\n",
       "      <td>DE - Other</td>\n",
       "      <td>Delaware City</td>\n",
       "      <td>2</td>\n",
       "      <td>...</td>\n",
       "      <td>0</td>\n",
       "      <td>0</td>\n",
       "      <td>1</td>\n",
       "      <td>0</td>\n",
       "      <td>0</td>\n",
       "      <td>0</td>\n",
       "      <td>1</td>\n",
       "      <td>0</td>\n",
       "      <td>0</td>\n",
       "      <td>0</td>\n",
       "    </tr>\n",
       "    <tr>\n",
       "      <th>2</th>\n",
       "      <td>/organization/-the-one-of-them-inc-</td>\n",
       "      <td>(THE) ONE of THEM,Inc.</td>\n",
       "      <td>http://oneofthem.jp</td>\n",
       "      <td>3406878.0</td>\n",
       "      <td>operating</td>\n",
       "      <td>NaN</td>\n",
       "      <td>NaN</td>\n",
       "      <td>NaN</td>\n",
       "      <td>NaN</td>\n",
       "      <td>1</td>\n",
       "      <td>...</td>\n",
       "      <td>0</td>\n",
       "      <td>0</td>\n",
       "      <td>1</td>\n",
       "      <td>0</td>\n",
       "      <td>0</td>\n",
       "      <td>0</td>\n",
       "      <td>1</td>\n",
       "      <td>0</td>\n",
       "      <td>0</td>\n",
       "      <td>0</td>\n",
       "    </tr>\n",
       "    <tr>\n",
       "      <th>3</th>\n",
       "      <td>/organization/0-6-com</td>\n",
       "      <td>0-6.com</td>\n",
       "      <td>http://www.0-6.com</td>\n",
       "      <td>2000000.0</td>\n",
       "      <td>operating</td>\n",
       "      <td>CHN</td>\n",
       "      <td>22</td>\n",
       "      <td>Beijing</td>\n",
       "      <td>Beijing</td>\n",
       "      <td>1</td>\n",
       "      <td>...</td>\n",
       "      <td>0</td>\n",
       "      <td>0</td>\n",
       "      <td>0</td>\n",
       "      <td>0</td>\n",
       "      <td>0</td>\n",
       "      <td>0</td>\n",
       "      <td>1</td>\n",
       "      <td>0</td>\n",
       "      <td>0</td>\n",
       "      <td>0</td>\n",
       "    </tr>\n",
       "    <tr>\n",
       "      <th>4</th>\n",
       "      <td>/organization/004-technologies</td>\n",
       "      <td>004 Technologies</td>\n",
       "      <td>http://004gmbh.de/en/004-interact</td>\n",
       "      <td>0.0</td>\n",
       "      <td>operating</td>\n",
       "      <td>USA</td>\n",
       "      <td>IL</td>\n",
       "      <td>Springfield, Illinois</td>\n",
       "      <td>Champaign</td>\n",
       "      <td>1</td>\n",
       "      <td>...</td>\n",
       "      <td>0</td>\n",
       "      <td>0</td>\n",
       "      <td>0</td>\n",
       "      <td>0</td>\n",
       "      <td>0</td>\n",
       "      <td>0</td>\n",
       "      <td>0</td>\n",
       "      <td>0</td>\n",
       "      <td>0</td>\n",
       "      <td>0</td>\n",
       "    </tr>\n",
       "  </tbody>\n",
       "</table>\n",
       "<p>5 rows × 35 columns</p>\n",
       "</div>"
      ],
      "text/plain": [
       "                             permalink                    name  \\\n",
       "0                  /organization/-fame                   #fame   \n",
       "1               /organization/-qounter                :Qounter   \n",
       "2  /organization/-the-one-of-them-inc-  (THE) ONE of THEM,Inc.   \n",
       "3                /organization/0-6-com                 0-6.com   \n",
       "4       /organization/004-technologies        004 Technologies   \n",
       "\n",
       "                        homepage_url  funding_total_usd     status  \\\n",
       "0                 http://livfame.com         10000000.0  operating   \n",
       "1             http://www.qounter.com           700000.0  operating   \n",
       "2                http://oneofthem.jp          3406878.0  operating   \n",
       "3                 http://www.0-6.com          2000000.0  operating   \n",
       "4  http://004gmbh.de/en/004-interact                0.0  operating   \n",
       "\n",
       "  country_code state_code                 region           city  \\\n",
       "0          IND         16                 Mumbai         Mumbai   \n",
       "1          USA         DE             DE - Other  Delaware City   \n",
       "2          NaN        NaN                    NaN            NaN   \n",
       "3          CHN         22                Beijing        Beijing   \n",
       "4          USA         IL  Springfield, Illinois      Champaign   \n",
       "\n",
       "   funding_rounds  ... Animals and Vet Real Estate, Property and Construction  \\\n",
       "0               1  ...               0                                      0   \n",
       "1               2  ...               0                                      0   \n",
       "2               1  ...               0                                      0   \n",
       "3               1  ...               0                                      0   \n",
       "4               1  ...               0                                      0   \n",
       "\n",
       "  Entertainment, Gaming and Social  Consumer Goods and Retail  Data and Cloud  \\\n",
       "0                                1                          0               0   \n",
       "1                                1                          0               0   \n",
       "2                                1                          0               0   \n",
       "3                                0                          0               0   \n",
       "4                                0                          0               0   \n",
       "\n",
       "   Healthcare and Biotechnology  Mobile and Online Technology  \\\n",
       "0                             0                             0   \n",
       "1                             0                             1   \n",
       "2                             0                             1   \n",
       "3                             0                             1   \n",
       "4                             0                             0   \n",
       "\n",
       "   Legal, Security and Governance  Event Management and Planning  \\\n",
       "0                               0                              0   \n",
       "1                               0                              0   \n",
       "2                               0                              0   \n",
       "3                               0                              0   \n",
       "4                               0                              0   \n",
       "\n",
       "   Not Specified  \n",
       "0              0  \n",
       "1              0  \n",
       "2              0  \n",
       "3              0  \n",
       "4              0  \n",
       "\n",
       "[5 rows x 35 columns]"
      ]
     },
     "execution_count": 35,
     "metadata": {},
     "output_type": "execute_result"
    }
   ],
   "source": [
    "crhbase_bucket_df.head()"
   ]
  },
  {
   "cell_type": "code",
   "execution_count": 36,
   "metadata": {},
   "outputs": [
    {
     "name": "stdout",
     "output_type": "stream",
     "text": [
      "<class 'pandas.core.frame.DataFrame'>\n",
      "RangeIndex: 66368 entries, 0 to 66367\n",
      "Data columns (total 35 columns):\n",
      " #   Column                                                   Non-Null Count  Dtype  \n",
      "---  ------                                                   --------------  -----  \n",
      " 0   permalink                                                66368 non-null  object \n",
      " 1   name                                                     66368 non-null  object \n",
      " 2   homepage_url                                             66368 non-null  object \n",
      " 3   funding_total_usd                                        66368 non-null  float64\n",
      " 4   status                                                   66368 non-null  object \n",
      " 5   country_code                                             59410 non-null  object \n",
      " 6   state_code                                               57821 non-null  object \n",
      " 7   region                                                   58338 non-null  object \n",
      " 8   city                                                     58340 non-null  object \n",
      " 9   funding_rounds                                           66368 non-null  int64  \n",
      " 10  founded_at                                               51147 non-null  object \n",
      " 11  first_funding_at                                         66344 non-null  object \n",
      " 12  last_funding_at                                          66368 non-null  object \n",
      " 13  Media and Arts                                           66368 non-null  int64  \n",
      " 14  Manufacturing and Industrial                             66368 non-null  int64  \n",
      " 15  Technology, Hardware and Computing                       66368 non-null  int64  \n",
      " 16  Financial Services and Cryptocurrency                    66368 non-null  int64  \n",
      " 17  Health, Human Resource and Wellness                      66368 non-null  int64  \n",
      " 18  Enterprise, Business and Finance                         66368 non-null  int64  \n",
      " 19  Hospitality and Travel                                   66368 non-null  int64  \n",
      " 20  Education, Learning and EdTech                           66368 non-null  int64  \n",
      " 21  Transportation, Automotive and Logistics                 66368 non-null  int64  \n",
      " 22  Agriculture and Horticulture                             66368 non-null  int64  \n",
      " 23  Energy and Environment                                   66368 non-null  int64  \n",
      " 24  Markets, Emerging Markets, Innovation and Global Trends  66368 non-null  int64  \n",
      " 25  Animals and Vet                                          66368 non-null  int64  \n",
      " 26  Real Estate, Property and Construction                   66368 non-null  int64  \n",
      " 27  Entertainment, Gaming and Social                         66368 non-null  int64  \n",
      " 28  Consumer Goods and Retail                                66368 non-null  int64  \n",
      " 29  Data and Cloud                                           66368 non-null  int64  \n",
      " 30  Healthcare and Biotechnology                             66368 non-null  int64  \n",
      " 31  Mobile and Online Technology                             66368 non-null  int64  \n",
      " 32  Legal, Security and Governance                           66368 non-null  int64  \n",
      " 33  Event Management and Planning                            66368 non-null  int64  \n",
      " 34  Not Specified                                            66368 non-null  int64  \n",
      "dtypes: float64(1), int64(23), object(11)\n",
      "memory usage: 17.7+ MB\n"
     ]
    }
   ],
   "source": [
    "crhbase_bucket_df.info()"
   ]
  },
  {
   "cell_type": "markdown",
   "metadata": {},
   "source": [
    "## status Processing"
   ]
  },
  {
   "cell_type": "markdown",
   "metadata": {},
   "source": [
    "Since this variable has only three different value and no nulls, we will not process it and handle it as string datatype and do initial statistical analysis and predictiva analysis. Nevertheless, a copy of a one-hot-encoded status colum on crunchbase datafaramw will be stored"
   ]
  },
  {
   "cell_type": "code",
   "execution_count": 37,
   "metadata": {},
   "outputs": [
    {
     "data": {
      "text/plain": [
       "array(['operating', 'acquired', 'closed', 'ipo'], dtype=object)"
      ]
     },
     "execution_count": 37,
     "metadata": {},
     "output_type": "execute_result"
    }
   ],
   "source": [
    "crhbase_bucket_df['status'].unique()"
   ]
  },
  {
   "cell_type": "code",
   "execution_count": 38,
   "metadata": {},
   "outputs": [],
   "source": [
    "crunchbase_df = crhbase_bucket_df.copy()\n",
    "crhbase_bucket_oh_status_df = pd.concat([crhbase_bucket_df.drop('status', axis=1),\n",
    "                                         pd.get_dummies(crhbase_bucket_df['status'], prefix='status').astype('Int64')], axis=1)"
   ]
  },
  {
   "cell_type": "markdown",
   "metadata": {},
   "source": [
    "### country_code Processing"
   ]
  },
  {
   "cell_type": "code",
   "execution_count": 39,
   "metadata": {},
   "outputs": [
    {
     "data": {
      "text/plain": [
       "6958"
      ]
     },
     "execution_count": 39,
     "metadata": {},
     "output_type": "execute_result"
    }
   ],
   "source": [
    "crunchbase_df['country_code'].isna().sum()"
   ]
  },
  {
   "cell_type": "code",
   "execution_count": 40,
   "metadata": {},
   "outputs": [
    {
     "data": {
      "text/plain": [
       "array(['IND', 'USA', nan, 'CHN', 'HKG', 'CAN', 'CHL', 'GBR', 'FRA', 'AUS',\n",
       "       'DNK', 'ROM', 'AUT', 'KOR', 'NLD', 'SWE', 'JPN', 'RUS', 'SGP',\n",
       "       'NOR', 'COL', 'ESP', 'BEL', 'IRL', 'ITA', 'ISR', 'NZL', 'CZE',\n",
       "       'DEU', 'CHE', 'BRA', 'BGR', 'SVN', 'JOR', 'HUN', 'BWA', 'NGA',\n",
       "       'FIN', 'TUR', 'IDN', 'ARE', 'CYP', 'POL', 'CRI', 'PRT', 'ARG',\n",
       "       'TWN', 'KHM', 'THA', 'SVK', 'UKR', 'LTU', 'ISL', 'ZAF', 'MEX',\n",
       "       'VEN', 'URY', 'MUS', 'KEN', 'PHL', 'MNE', 'VNM', 'GHA', 'PSE',\n",
       "       'MYS', 'PER', 'EGY', 'PAN', 'LVA', 'GGY', 'ALB', 'UGA', 'HRV',\n",
       "       'EST', 'LBN', 'GRC', 'PAK', 'NPL', 'LUX', 'SAU', 'IRN', 'GTM',\n",
       "       'BAH', 'ARM', 'BGD', 'MDA', 'SRB', 'TUN', 'ZWE', 'BRB', 'NIC',\n",
       "       'TAN', 'PRI', 'TTO', 'BHR', 'CMR', 'BLR', 'CYM', 'BRN', 'ECU',\n",
       "       'SLV', 'MLT', 'ZMB', 'MKD', 'GIB', 'TGO', 'LAO', 'BMU', 'HND',\n",
       "       'MCO', 'MMR', 'KAZ', 'QAT', 'DOM', 'MAR', 'LIE', 'GEO', 'MOZ',\n",
       "       'DZA', 'JAM', 'KNA', 'AZE', 'SEN', 'RWA', 'DMA', 'UZB', 'BLZ',\n",
       "       'OMN', 'JEY', 'KWT', 'CIV', 'BLM', 'GRD', 'LKA', 'SOM', 'SYC',\n",
       "       'PRY', 'MAF'], dtype=object)"
      ]
     },
     "execution_count": 40,
     "metadata": {},
     "output_type": "execute_result"
    }
   ],
   "source": [
    "crunchbase_df['country_code'].unique()"
   ]
  },
  {
   "cell_type": "markdown",
   "metadata": {},
   "source": [
    "Creating a separate category for missing data in your analysis is a good approach to handle the missing country codes in your dataset."
   ]
  },
  {
   "cell_type": "code",
   "execution_count": 41,
   "metadata": {},
   "outputs": [],
   "source": [
    "# Replace NaN values in 'country_code' with a placeholder like 'Unknown' or 'Not Specified'\n",
    "crunchbase_df['country_code'] = crunchbase_df['country_code'].fillna('Unknown')"
   ]
  },
  {
   "cell_type": "markdown",
   "metadata": {},
   "source": [
    "During  Analysis and Visualization\n",
    "In Analysis: When performing any statistical analysis or machine learning, treat 'Unknown' as a separate category. This allows you to measure the impact and distribution of missing values.\n",
    "\n",
    "In Visualization: Especially for geographical visualization, plot the 'Unknown' data separately. If you're using a map, you might represent these data points with a separate chart (like a bar chart or pie chart) to show the proportion of missing data.\n",
    "\n",
    "Reporting and Interpretation: When reporting your findings, clearly state that a certain percentage of data was categorized as 'Unknown' and discuss how this might impact your analysis. This is crucial for transparency and accurate interpretation of your results.\n",
    "\n",
    "Benefits of This Approach\n",
    "Maintains Data Integrity: You're not making assumptions about the missing data, thus preserving the original integrity of your dataset.\n",
    "\n",
    "Quantifies Missingness: Allows you to quantify and report the extent of missing data, which is an essential aspect of data quality assessment.\n",
    "\n",
    "Flexible for Various Analyses: This approach can be adapted for different types of analysis, whether it's statistical modeling, machine learning, or visualization."
   ]
  },
  {
   "cell_type": "markdown",
   "metadata": {},
   "source": [
    "### state_code, region, city Processing"
   ]
  },
  {
   "cell_type": "markdown",
   "metadata": {},
   "source": [
    "Now, since the state_code, region, city will only adding granularity to the geographical analysis, we will apply the same technique to them since we do not necessarily need that level of granularity at this stage in the project "
   ]
  },
  {
   "cell_type": "code",
   "execution_count": 42,
   "metadata": {},
   "outputs": [],
   "source": [
    "# Replace NaN values in 'country_code' with a placeholder like 'Unknown' or 'Not Specified'\n",
    "crunchbase_df['state_code'] = crunchbase_df['state_code'].fillna('Unknown')\n",
    "# Replace NaN values in 'country_code' with a placeholder like 'Unknown' or 'Not Specified'\n",
    "crunchbase_df['region'] = crunchbase_df['region'].fillna('Unknown')\n",
    "# Replace NaN values in 'country_code' with a placeholder like 'Unknown' or 'Not Specified'\n",
    "crunchbase_df['city'] = crunchbase_df['city'].fillna('Unknown')"
   ]
  },
  {
   "cell_type": "markdown",
   "metadata": {},
   "source": [
    "### funding_rounds Processing"
   ]
  },
  {
   "cell_type": "markdown",
   "metadata": {},
   "source": [
    "funding rounds variable is complete and already in int64 datetype so there is no processing needed other than basic data exploration where we see that ther a positive values ranging from 1 to 19"
   ]
  },
  {
   "cell_type": "code",
   "execution_count": 43,
   "metadata": {},
   "outputs": [
    {
     "data": {
      "text/plain": [
       "array([ 1,  2,  4,  3,  9,  5,  6,  7,  8, 10, 11, 12, 15, 13, 14, 17, 18,\n",
       "       16, 19], dtype=int64)"
      ]
     },
     "execution_count": 43,
     "metadata": {},
     "output_type": "execute_result"
    }
   ],
   "source": [
    "crunchbase_df['funding_rounds'].unique()"
   ]
  },
  {
   "cell_type": "markdown",
   "metadata": {},
   "source": [
    "### last_funding_at Processing"
   ]
  },
  {
   "cell_type": "code",
   "execution_count": 44,
   "metadata": {},
   "outputs": [
    {
     "data": {
      "text/html": [
       "<div>\n",
       "<style scoped>\n",
       "    .dataframe tbody tr th:only-of-type {\n",
       "        vertical-align: middle;\n",
       "    }\n",
       "\n",
       "    .dataframe tbody tr th {\n",
       "        vertical-align: top;\n",
       "    }\n",
       "\n",
       "    .dataframe thead th {\n",
       "        text-align: right;\n",
       "    }\n",
       "</style>\n",
       "<table border=\"1\" class=\"dataframe\">\n",
       "  <thead>\n",
       "    <tr style=\"text-align: right;\">\n",
       "      <th></th>\n",
       "      <th>permalink</th>\n",
       "      <th>name</th>\n",
       "      <th>homepage_url</th>\n",
       "      <th>funding_total_usd</th>\n",
       "      <th>status</th>\n",
       "      <th>country_code</th>\n",
       "      <th>state_code</th>\n",
       "      <th>region</th>\n",
       "      <th>city</th>\n",
       "      <th>funding_rounds</th>\n",
       "      <th>...</th>\n",
       "      <th>Animals and Vet</th>\n",
       "      <th>Real Estate, Property and Construction</th>\n",
       "      <th>Entertainment, Gaming and Social</th>\n",
       "      <th>Consumer Goods and Retail</th>\n",
       "      <th>Data and Cloud</th>\n",
       "      <th>Healthcare and Biotechnology</th>\n",
       "      <th>Mobile and Online Technology</th>\n",
       "      <th>Legal, Security and Governance</th>\n",
       "      <th>Event Management and Planning</th>\n",
       "      <th>Not Specified</th>\n",
       "    </tr>\n",
       "  </thead>\n",
       "  <tbody>\n",
       "  </tbody>\n",
       "</table>\n",
       "<p>0 rows × 35 columns</p>\n",
       "</div>"
      ],
      "text/plain": [
       "Empty DataFrame\n",
       "Columns: [permalink, name, homepage_url, funding_total_usd, status, country_code, state_code, region, city, funding_rounds, founded_at, first_funding_at, last_funding_at, Media and Arts, Manufacturing and Industrial, Technology, Hardware and Computing, Financial Services and Cryptocurrency, Health, Human Resource and Wellness, Enterprise, Business and Finance, Hospitality and Travel, Education, Learning and EdTech, Transportation, Automotive and Logistics, Agriculture and Horticulture, Energy and Environment, Markets, Emerging Markets, Innovation and Global Trends, Animals and Vet, Real Estate, Property and Construction, Entertainment, Gaming and Social, Consumer Goods and Retail, Data and Cloud, Healthcare and Biotechnology, Mobile and Online Technology, Legal, Security and Governance, Event Management and Planning, Not Specified]\n",
       "Index: []\n",
       "\n",
       "[0 rows x 35 columns]"
      ]
     },
     "execution_count": 44,
     "metadata": {},
     "output_type": "execute_result"
    }
   ],
   "source": [
    "crunchbase_df[crunchbase_df['last_funding_at'].isna()]"
   ]
  },
  {
   "cell_type": "code",
   "execution_count": 45,
   "metadata": {},
   "outputs": [],
   "source": [
    "# Convert the column to datetime\n",
    "crunchbase_df['last_funding_at'] = pd.to_datetime(crunchbase_df['last_funding_at'])"
   ]
  },
  {
   "cell_type": "code",
   "execution_count": 46,
   "metadata": {},
   "outputs": [
    {
     "data": {
      "text/plain": [
       "Timestamp('2115-12-01 00:00:00')"
      ]
     },
     "execution_count": 46,
     "metadata": {},
     "output_type": "execute_result"
    }
   ],
   "source": [
    "crunchbase_df['last_funding_at'].max()"
   ]
  },
  {
   "cell_type": "code",
   "execution_count": 47,
   "metadata": {},
   "outputs": [
    {
     "data": {
      "text/html": [
       "<div>\n",
       "<style scoped>\n",
       "    .dataframe tbody tr th:only-of-type {\n",
       "        vertical-align: middle;\n",
       "    }\n",
       "\n",
       "    .dataframe tbody tr th {\n",
       "        vertical-align: top;\n",
       "    }\n",
       "\n",
       "    .dataframe thead th {\n",
       "        text-align: right;\n",
       "    }\n",
       "</style>\n",
       "<table border=\"1\" class=\"dataframe\">\n",
       "  <thead>\n",
       "    <tr style=\"text-align: right;\">\n",
       "      <th></th>\n",
       "      <th>permalink</th>\n",
       "      <th>name</th>\n",
       "      <th>homepage_url</th>\n",
       "      <th>funding_total_usd</th>\n",
       "      <th>status</th>\n",
       "      <th>country_code</th>\n",
       "      <th>state_code</th>\n",
       "      <th>region</th>\n",
       "      <th>city</th>\n",
       "      <th>funding_rounds</th>\n",
       "      <th>founded_at</th>\n",
       "      <th>first_funding_at</th>\n",
       "      <th>last_funding_at</th>\n",
       "    </tr>\n",
       "  </thead>\n",
       "  <tbody>\n",
       "    <tr>\n",
       "      <th>46956</th>\n",
       "      <td>/organization/rasyonel-r-d</td>\n",
       "      <td>Rasyonel R&amp;D</td>\n",
       "      <td>http://www.rasyonelarge.com</td>\n",
       "      <td>220000.0</td>\n",
       "      <td>closed</td>\n",
       "      <td>TUR</td>\n",
       "      <td>35</td>\n",
       "      <td>Izmir</td>\n",
       "      <td>Izmir</td>\n",
       "      <td>3</td>\n",
       "      <td>2013-03-20</td>\n",
       "      <td>2013-04-05</td>\n",
       "      <td>2105-05-01</td>\n",
       "    </tr>\n",
       "    <tr>\n",
       "      <th>63921</th>\n",
       "      <td>/organization/wigzo-technologies</td>\n",
       "      <td>Wigzo Technologies</td>\n",
       "      <td>http://www.wigzo.com/</td>\n",
       "      <td>600000.0</td>\n",
       "      <td>operating</td>\n",
       "      <td>Unknown</td>\n",
       "      <td>Unknown</td>\n",
       "      <td>Unknown</td>\n",
       "      <td>Unknown</td>\n",
       "      <td>2</td>\n",
       "      <td>NaN</td>\n",
       "      <td>2014-08-18</td>\n",
       "      <td>2115-12-01</td>\n",
       "    </tr>\n",
       "  </tbody>\n",
       "</table>\n",
       "</div>"
      ],
      "text/plain": [
       "                              permalink                name  \\\n",
       "46956        /organization/rasyonel-r-d        Rasyonel R&D   \n",
       "63921  /organization/wigzo-technologies  Wigzo Technologies   \n",
       "\n",
       "                      homepage_url  funding_total_usd     status country_code  \\\n",
       "46956  http://www.rasyonelarge.com           220000.0     closed          TUR   \n",
       "63921        http://www.wigzo.com/           600000.0  operating      Unknown   \n",
       "\n",
       "      state_code   region     city  funding_rounds  founded_at  \\\n",
       "46956         35    Izmir    Izmir               3  2013-03-20   \n",
       "63921    Unknown  Unknown  Unknown               2         NaN   \n",
       "\n",
       "      first_funding_at last_funding_at  \n",
       "46956       2013-04-05      2105-05-01  \n",
       "63921       2014-08-18      2115-12-01  "
      ]
     },
     "execution_count": 47,
     "metadata": {},
     "output_type": "execute_result"
    }
   ],
   "source": [
    "crunchbase_df[crunchbase_df['last_funding_at'] > '2023-01-01'].iloc[:, :13]"
   ]
  },
  {
   "cell_type": "markdown",
   "metadata": {},
   "source": [
    "We assume that there is an error in the data collection and that the date intended was '2015', this also considering the `first_funding_at` variable associated to the observation. In this was we will impute those values."
   ]
  },
  {
   "cell_type": "code",
   "execution_count": 48,
   "metadata": {},
   "outputs": [],
   "source": [
    "# Condition: Replace 'last_funding_at' where it's greater than '2023-01-01'\n",
    "condition = crunchbase_df['last_funding_at'] > '2023-01-01'\n",
    "\n",
    "# Replace values that meet the condition\n",
    "crunchbase_df.loc[condition, 'last_funding_at'] = '2015-07-01'"
   ]
  },
  {
   "cell_type": "code",
   "execution_count": 49,
   "metadata": {},
   "outputs": [
    {
     "data": {
      "text/plain": [
       "Timestamp('1971-01-01 00:00:00')"
      ]
     },
     "execution_count": 49,
     "metadata": {},
     "output_type": "execute_result"
    }
   ],
   "source": [
    "crunchbase_df['last_funding_at'].min()"
   ]
  },
  {
   "cell_type": "code",
   "execution_count": 50,
   "metadata": {},
   "outputs": [
    {
     "data": {
      "text/plain": [
       "Timestamp('2015-12-12 00:00:00')"
      ]
     },
     "execution_count": 50,
     "metadata": {},
     "output_type": "execute_result"
    }
   ],
   "source": [
    "crunchbase_df['last_funding_at'].max()"
   ]
  },
  {
   "cell_type": "markdown",
   "metadata": {},
   "source": [
    "### first_funding_at Processing"
   ]
  },
  {
   "cell_type": "code",
   "execution_count": 51,
   "metadata": {},
   "outputs": [
    {
     "data": {
      "text/html": [
       "<div>\n",
       "<style scoped>\n",
       "    .dataframe tbody tr th:only-of-type {\n",
       "        vertical-align: middle;\n",
       "    }\n",
       "\n",
       "    .dataframe tbody tr th {\n",
       "        vertical-align: top;\n",
       "    }\n",
       "\n",
       "    .dataframe thead th {\n",
       "        text-align: right;\n",
       "    }\n",
       "</style>\n",
       "<table border=\"1\" class=\"dataframe\">\n",
       "  <thead>\n",
       "    <tr style=\"text-align: right;\">\n",
       "      <th></th>\n",
       "      <th>funding_rounds</th>\n",
       "      <th>first_funding_at</th>\n",
       "      <th>last_funding_at</th>\n",
       "      <th>funding_total_usd</th>\n",
       "    </tr>\n",
       "  </thead>\n",
       "  <tbody>\n",
       "    <tr>\n",
       "      <th>2445</th>\n",
       "      <td>3</td>\n",
       "      <td>NaN</td>\n",
       "      <td>2015-11-17</td>\n",
       "      <td>1.250000e+07</td>\n",
       "    </tr>\n",
       "    <tr>\n",
       "      <th>3334</th>\n",
       "      <td>6</td>\n",
       "      <td>NaN</td>\n",
       "      <td>2014-03-23</td>\n",
       "      <td>1.190000e+06</td>\n",
       "    </tr>\n",
       "    <tr>\n",
       "      <th>8029</th>\n",
       "      <td>5</td>\n",
       "      <td>NaN</td>\n",
       "      <td>2014-07-01</td>\n",
       "      <td>1.408347e+06</td>\n",
       "    </tr>\n",
       "    <tr>\n",
       "      <th>9843</th>\n",
       "      <td>2</td>\n",
       "      <td>NaN</td>\n",
       "      <td>2014-10-22</td>\n",
       "      <td>1.000000e+06</td>\n",
       "    </tr>\n",
       "    <tr>\n",
       "      <th>10204</th>\n",
       "      <td>2</td>\n",
       "      <td>NaN</td>\n",
       "      <td>2014-04-24</td>\n",
       "      <td>3.040120e+05</td>\n",
       "    </tr>\n",
       "    <tr>\n",
       "      <th>14717</th>\n",
       "      <td>2</td>\n",
       "      <td>NaN</td>\n",
       "      <td>2015-11-20</td>\n",
       "      <td>6.085474e+04</td>\n",
       "    </tr>\n",
       "    <tr>\n",
       "      <th>16250</th>\n",
       "      <td>3</td>\n",
       "      <td>NaN</td>\n",
       "      <td>2014-09-01</td>\n",
       "      <td>1.675551e+06</td>\n",
       "    </tr>\n",
       "    <tr>\n",
       "      <th>17589</th>\n",
       "      <td>3</td>\n",
       "      <td>NaN</td>\n",
       "      <td>2015-01-20</td>\n",
       "      <td>2.971490e+05</td>\n",
       "    </tr>\n",
       "    <tr>\n",
       "      <th>20101</th>\n",
       "      <td>3</td>\n",
       "      <td>NaN</td>\n",
       "      <td>2015-11-26</td>\n",
       "      <td>3.320000e+06</td>\n",
       "    </tr>\n",
       "    <tr>\n",
       "      <th>23422</th>\n",
       "      <td>2</td>\n",
       "      <td>NaN</td>\n",
       "      <td>2014-01-27</td>\n",
       "      <td>9.600000e+05</td>\n",
       "    </tr>\n",
       "    <tr>\n",
       "      <th>23535</th>\n",
       "      <td>4</td>\n",
       "      <td>NaN</td>\n",
       "      <td>2015-06-14</td>\n",
       "      <td>2.725000e+05</td>\n",
       "    </tr>\n",
       "    <tr>\n",
       "      <th>25362</th>\n",
       "      <td>2</td>\n",
       "      <td>NaN</td>\n",
       "      <td>2015-10-14</td>\n",
       "      <td>2.000000e+06</td>\n",
       "    </tr>\n",
       "    <tr>\n",
       "      <th>30476</th>\n",
       "      <td>3</td>\n",
       "      <td>NaN</td>\n",
       "      <td>2015-10-01</td>\n",
       "      <td>3.600000e+05</td>\n",
       "    </tr>\n",
       "    <tr>\n",
       "      <th>33583</th>\n",
       "      <td>2</td>\n",
       "      <td>NaN</td>\n",
       "      <td>2014-09-01</td>\n",
       "      <td>2.489970e+05</td>\n",
       "    </tr>\n",
       "    <tr>\n",
       "      <th>36341</th>\n",
       "      <td>3</td>\n",
       "      <td>NaN</td>\n",
       "      <td>2014-12-15</td>\n",
       "      <td>5.339200e+05</td>\n",
       "    </tr>\n",
       "    <tr>\n",
       "      <th>37129</th>\n",
       "      <td>2</td>\n",
       "      <td>NaN</td>\n",
       "      <td>2014-09-01</td>\n",
       "      <td>1.500000e+05</td>\n",
       "    </tr>\n",
       "    <tr>\n",
       "      <th>38823</th>\n",
       "      <td>3</td>\n",
       "      <td>NaN</td>\n",
       "      <td>2012-06-01</td>\n",
       "      <td>2.000000e+04</td>\n",
       "    </tr>\n",
       "    <tr>\n",
       "      <th>45324</th>\n",
       "      <td>2</td>\n",
       "      <td>NaN</td>\n",
       "      <td>2014-10-01</td>\n",
       "      <td>0.000000e+00</td>\n",
       "    </tr>\n",
       "    <tr>\n",
       "      <th>45753</th>\n",
       "      <td>5</td>\n",
       "      <td>NaN</td>\n",
       "      <td>2015-10-01</td>\n",
       "      <td>2.250000e+05</td>\n",
       "    </tr>\n",
       "    <tr>\n",
       "      <th>47183</th>\n",
       "      <td>2</td>\n",
       "      <td>NaN</td>\n",
       "      <td>2015-05-14</td>\n",
       "      <td>8.000000e+06</td>\n",
       "    </tr>\n",
       "    <tr>\n",
       "      <th>50717</th>\n",
       "      <td>3</td>\n",
       "      <td>NaN</td>\n",
       "      <td>2013-07-08</td>\n",
       "      <td>1.200000e+07</td>\n",
       "    </tr>\n",
       "    <tr>\n",
       "      <th>52711</th>\n",
       "      <td>3</td>\n",
       "      <td>NaN</td>\n",
       "      <td>2015-09-01</td>\n",
       "      <td>4.000000e+05</td>\n",
       "    </tr>\n",
       "    <tr>\n",
       "      <th>53371</th>\n",
       "      <td>5</td>\n",
       "      <td>NaN</td>\n",
       "      <td>2015-01-23</td>\n",
       "      <td>4.349586e+06</td>\n",
       "    </tr>\n",
       "    <tr>\n",
       "      <th>58592</th>\n",
       "      <td>2</td>\n",
       "      <td>NaN</td>\n",
       "      <td>2011-03-18</td>\n",
       "      <td>1.500000e+05</td>\n",
       "    </tr>\n",
       "  </tbody>\n",
       "</table>\n",
       "</div>"
      ],
      "text/plain": [
       "       funding_rounds first_funding_at last_funding_at  funding_total_usd\n",
       "2445                3              NaN      2015-11-17       1.250000e+07\n",
       "3334                6              NaN      2014-03-23       1.190000e+06\n",
       "8029                5              NaN      2014-07-01       1.408347e+06\n",
       "9843                2              NaN      2014-10-22       1.000000e+06\n",
       "10204               2              NaN      2014-04-24       3.040120e+05\n",
       "14717               2              NaN      2015-11-20       6.085474e+04\n",
       "16250               3              NaN      2014-09-01       1.675551e+06\n",
       "17589               3              NaN      2015-01-20       2.971490e+05\n",
       "20101               3              NaN      2015-11-26       3.320000e+06\n",
       "23422               2              NaN      2014-01-27       9.600000e+05\n",
       "23535               4              NaN      2015-06-14       2.725000e+05\n",
       "25362               2              NaN      2015-10-14       2.000000e+06\n",
       "30476               3              NaN      2015-10-01       3.600000e+05\n",
       "33583               2              NaN      2014-09-01       2.489970e+05\n",
       "36341               3              NaN      2014-12-15       5.339200e+05\n",
       "37129               2              NaN      2014-09-01       1.500000e+05\n",
       "38823               3              NaN      2012-06-01       2.000000e+04\n",
       "45324               2              NaN      2014-10-01       0.000000e+00\n",
       "45753               5              NaN      2015-10-01       2.250000e+05\n",
       "47183               2              NaN      2015-05-14       8.000000e+06\n",
       "50717               3              NaN      2013-07-08       1.200000e+07\n",
       "52711               3              NaN      2015-09-01       4.000000e+05\n",
       "53371               5              NaN      2015-01-23       4.349586e+06\n",
       "58592               2              NaN      2011-03-18       1.500000e+05"
      ]
     },
     "execution_count": 51,
     "metadata": {},
     "output_type": "execute_result"
    }
   ],
   "source": [
    "crunchbase_df[crunchbase_df['first_funding_at'].isna()][['funding_rounds', 'first_funding_at', 'last_funding_at', 'funding_total_usd']]"
   ]
  },
  {
   "cell_type": "markdown",
   "metadata": {},
   "source": [
    "Method for imputation: Since we have the funding rounds and the last funding date, we can compute analysis to check on average how many months do the startups need to get 1 funding round, and then multiply the number of months to get a funsing and multiply it for the number of funding rounds, we can then later substract the number of months from the last funding date and get a goos estimation on when was the fisrt funding based on the data distribution."
   ]
  },
  {
   "cell_type": "code",
   "execution_count": 52,
   "metadata": {},
   "outputs": [
    {
     "data": {
      "text/plain": [
       "37176    1014-03-01\n",
       "22208    1201-11-23\n",
       "7409     1532-06-26\n",
       "61699    1960-01-01\n",
       "28378    1971-01-01\n",
       "Name: first_funding_at, dtype: object"
      ]
     },
     "execution_count": 52,
     "metadata": {},
     "output_type": "execute_result"
    }
   ],
   "source": [
    "crunchbase_df['first_funding_at'].sort_values().head()"
   ]
  },
  {
   "cell_type": "code",
   "execution_count": 53,
   "metadata": {},
   "outputs": [],
   "source": [
    "crunchbase_ffdate_df = crunchbase_df[(crunchbase_df['first_funding_at'].notna()) & \n",
    "                                     (crunchbase_df['first_funding_at'] > '1960-01-01')]"
   ]
  },
  {
   "cell_type": "code",
   "execution_count": 54,
   "metadata": {},
   "outputs": [
    {
     "data": {
      "text/plain": [
       "28378    1971-01-01\n",
       "8786     1973-04-15\n",
       "3728     1977-05-15\n",
       "744      1979-01-01\n",
       "36251    1980-01-01\n",
       "Name: first_funding_at, dtype: object"
      ]
     },
     "execution_count": 54,
     "metadata": {},
     "output_type": "execute_result"
    }
   ],
   "source": [
    "crunchbase_ffdate_df['first_funding_at'].sort_values().head()"
   ]
  },
  {
   "cell_type": "code",
   "execution_count": 55,
   "metadata": {},
   "outputs": [
    {
     "name": "stderr",
     "output_type": "stream",
     "text": [
      "C:\\Users\\pablo\\AppData\\Local\\Temp\\ipykernel_7124\\1335771050.py:2: SettingWithCopyWarning: \n",
      "A value is trying to be set on a copy of a slice from a DataFrame.\n",
      "Try using .loc[row_indexer,col_indexer] = value instead\n",
      "\n",
      "See the caveats in the documentation: https://pandas.pydata.org/pandas-docs/stable/user_guide/indexing.html#returning-a-view-versus-a-copy\n",
      "  crunchbase_ffdate_df['first_funding_at'] = pd.to_datetime(crunchbase_ffdate_df['first_funding_at'])\n",
      "C:\\Users\\pablo\\AppData\\Local\\Temp\\ipykernel_7124\\1335771050.py:5: SettingWithCopyWarning: \n",
      "A value is trying to be set on a copy of a slice from a DataFrame.\n",
      "Try using .loc[row_indexer,col_indexer] = value instead\n",
      "\n",
      "See the caveats in the documentation: https://pandas.pydata.org/pandas-docs/stable/user_guide/indexing.html#returning-a-view-versus-a-copy\n",
      "  crunchbase_ffdate_df.loc[:, 'funding_duration_days'] = (crunchbase_ffdate_df['last_funding_at'] - crunchbase_ffdate_df['first_funding_at']).dt.days\n",
      "C:\\Users\\pablo\\AppData\\Local\\Temp\\ipykernel_7124\\1335771050.py:11: SettingWithCopyWarning: \n",
      "A value is trying to be set on a copy of a slice from a DataFrame.\n",
      "Try using .loc[row_indexer,col_indexer] = value instead\n",
      "\n",
      "See the caveats in the documentation: https://pandas.pydata.org/pandas-docs/stable/user_guide/indexing.html#returning-a-view-versus-a-copy\n",
      "  crunchbase_ffdate_df.loc[:, 'avg_duration_per_round'] = (crunchbase_ffdate_df['funding_duration_days'] / crunchbase_ffdate_df['funding_rounds']).round(decimals=2)\n"
     ]
    }
   ],
   "source": [
    "# Convert 'first_funding_at' and 'last_funding_at' to datetime\n",
    "crunchbase_ffdate_df['first_funding_at'] = pd.to_datetime(crunchbase_ffdate_df['first_funding_at'])\n",
    "\n",
    "# Calculate the duration between the first and last funding in days\n",
    "crunchbase_ffdate_df.loc[:, 'funding_duration_days'] = (crunchbase_ffdate_df['last_funding_at'] - crunchbase_ffdate_df['first_funding_at']).dt.days\n",
    "\n",
    "# Handle division by zero if there are entries with zero funding rounds\n",
    "crunchbase_ffdate_df.loc[crunchbase_ffdate_df['funding_rounds'] == 0, 'funding_rounds'] = 1\n",
    "\n",
    "# Calculate the average duration per round\n",
    "crunchbase_ffdate_df.loc[:, 'avg_duration_per_round'] = (crunchbase_ffdate_df['funding_duration_days'] / crunchbase_ffdate_df['funding_rounds']).round(decimals=2)\n",
    "\n",
    "# 'avg_duration_per_round' now has the average number of days per funding round"
   ]
  },
  {
   "cell_type": "markdown",
   "metadata": {},
   "source": [
    "We can confirm from our previous analysis that the startups which the first fuding is equal to the last funding date received no funding and therefore, the 'avg_duration_per_round' would be zero"
   ]
  },
  {
   "cell_type": "code",
   "execution_count": 56,
   "metadata": {},
   "outputs": [],
   "source": [
    "condition_avg_zero = crunchbase_ffdate_df[crunchbase_ffdate_df['avg_duration_per_round'] == 0].index\n",
    "condition_same_first_last_funding_date = crunchbase_ffdate_df[crunchbase_ffdate_df['first_funding_at'] == crunchbase_ffdate_df['last_funding_at']].index"
   ]
  },
  {
   "cell_type": "code",
   "execution_count": 57,
   "metadata": {},
   "outputs": [
    {
     "data": {
      "text/plain": [
       "(42747, 42747)"
      ]
     },
     "execution_count": 57,
     "metadata": {},
     "output_type": "execute_result"
    }
   ],
   "source": [
    "len(condition_avg_zero), len(condition_same_first_last_funding_date)"
   ]
  },
  {
   "cell_type": "code",
   "execution_count": 58,
   "metadata": {},
   "outputs": [],
   "source": [
    "condition_check = list(set(condition_avg_zero) - set(condition_same_first_last_funding_date))"
   ]
  },
  {
   "cell_type": "code",
   "execution_count": 59,
   "metadata": {},
   "outputs": [
    {
     "data": {
      "text/plain": [
       "count    66340.000000\n",
       "mean       110.659712\n",
       "std        210.970250\n",
       "min          0.000000\n",
       "25%          0.000000\n",
       "50%          0.000000\n",
       "75%        170.500000\n",
       "max       3880.000000\n",
       "Name: avg_duration_per_round, dtype: float64"
      ]
     },
     "execution_count": 59,
     "metadata": {},
     "output_type": "execute_result"
    }
   ],
   "source": [
    "crunchbase_ffdate_df['avg_duration_per_round'].describe()"
   ]
  },
  {
   "cell_type": "code",
   "execution_count": 60,
   "metadata": {},
   "outputs": [
    {
     "data": {
      "image/png": "[encoded data removed]",
      "text/plain": [
       "<Figure size 1500x600 with 2 Axes>"
      ]
     },
     "metadata": {},
     "output_type": "display_data"
    }
   ],
   "source": [
    "# Set up the matplotlib figure with two subplots\n",
    "fig, axes = plt.subplots(nrows=1, ncols=2, figsize=(15, 6))\n",
    "\n",
    "# Histogram\n",
    "sns.histplot(crunchbase_ffdate_df['avg_duration_per_round'], bins=30, kde=True, color=\"skyblue\", ax=axes[0])\n",
    "axes[0].set_title('Histogram of Average Duration Per Round')\n",
    "axes[0].set_xlabel('Average Duration Per Round (Days)')\n",
    "axes[0].set_ylabel('Frequency')\n",
    "\n",
    "# Boxplot\n",
    "sns.boxplot(x=crunchbase_ffdate_df['avg_duration_per_round'], ax=axes[1], color=\"lightgreen\")\n",
    "axes[1].set_title('Boxplot of Average Duration Per Round')\n",
    "axes[1].set_xlabel('Average Duration Per Round (Days)')\n",
    "\n",
    "# Aesthetic adjustments\n",
    "sns.set_style(\"whitegrid\")\n",
    "plt.tight_layout()\n",
    "plt.show()"
   ]
  },
  {
   "cell_type": "markdown",
   "metadata": {},
   "source": [
    "We see a huge number of close to zero values, and this is because many of the startupd haven't raised any funds yet, naturally. So, for the sake of the analysis,we will just consider those average where the days are different from zero and compute the plots again"
   ]
  },
  {
   "cell_type": "code",
   "execution_count": 61,
   "metadata": {},
   "outputs": [],
   "source": [
    "plot_ffdate_series = crunchbase_ffdate_df[crunchbase_ffdate_df['avg_duration_per_round'] != 0]['avg_duration_per_round']"
   ]
  },
  {
   "cell_type": "code",
   "execution_count": 62,
   "metadata": {},
   "outputs": [
    {
     "data": {
      "text/plain": [
       "count    23593.000000\n",
       "mean       311.158619\n",
       "std        250.529298\n",
       "min          0.500000\n",
       "25%        151.330000\n",
       "50%        253.500000\n",
       "75%        398.000000\n",
       "max       3880.000000\n",
       "Name: avg_duration_per_round, dtype: float64"
      ]
     },
     "execution_count": 62,
     "metadata": {},
     "output_type": "execute_result"
    }
   ],
   "source": [
    "plot_ffdate_series.describe()"
   ]
  },
  {
   "cell_type": "code",
   "execution_count": 63,
   "metadata": {},
   "outputs": [
    {
     "data": {
      "image/png": "[encoded data removed]",
      "text/plain": [
       "<Figure size 1500x600 with 2 Axes>"
      ]
     },
     "metadata": {},
     "output_type": "display_data"
    }
   ],
   "source": [
    "# Set up the matplotlib figure with two subplots\n",
    "fig, axes = plt.subplots(nrows=1, ncols=2, figsize=(15, 6))\n",
    "\n",
    "# Histogram\n",
    "sns.histplot(plot_ffdate_series, bins=20, kde=True, color=\"skyblue\", ax=axes[0])\n",
    "axes[0].set_title('Histogram of Average Duration Per Round')\n",
    "axes[0].set_xlabel('Average Duration Per Round (Days)')\n",
    "axes[0].set_ylabel('Frequency')\n",
    "\n",
    "# Boxplot\n",
    "sns.boxplot(x=plot_ffdate_series, ax=axes[1], color=\"lightgreen\")\n",
    "axes[1].set_title('Boxplot of Average Duration Per Round')\n",
    "axes[1].set_xlabel('Average Duration Per Round (Days)')\n",
    "\n",
    "# Aesthetic adjustments\n",
    "sns.set_style(\"whitegrid\")\n",
    "plt.tight_layout()\n",
    "plt.show()"
   ]
  },
  {
   "cell_type": "markdown",
   "metadata": {},
   "source": [
    "Better, for the sake of simplicity, we will stick to the mean value in this case to make a calculation of the average duration per round in days times the funding rounds so we can have the number to substract from the final funding round"
   ]
  },
  {
   "cell_type": "code",
   "execution_count": 64,
   "metadata": {},
   "outputs": [],
   "source": [
    "#days_to_substract = int(round(crunchbase_ffdate_df.describe()['avg_duration_per_round']['mean']))"
   ]
  },
  {
   "cell_type": "markdown",
   "metadata": {},
   "source": [
    "Writing the variable to the helper file to later use"
   ]
  },
  {
   "cell_type": "code",
   "execution_count": 65,
   "metadata": {},
   "outputs": [],
   "source": [
    "# Convert the variable to a string\n",
    "#variable_string = f\"avg_day_per_round = {days_to_substract}\\n\"\n",
    "\n",
    "# Write to a Python file\n",
    "#with open(\"helper_variables.py\", \"a\") as file:\n",
    "#    file.write(variable_string)"
   ]
  },
  {
   "cell_type": "code",
   "execution_count": 66,
   "metadata": {},
   "outputs": [],
   "source": [
    "days_to_substract = helper_variables.avg_day_per_round"
   ]
  },
  {
   "cell_type": "code",
   "execution_count": 67,
   "metadata": {},
   "outputs": [],
   "source": [
    "# Convert 'first_funding_at' and 'last_funding_at' to datetime\n",
    "crunchbase_df['first_funding_at'] = pd.to_datetime(crunchbase_df['first_funding_at'], errors='coerce')\n",
    "\n",
    "# Select rows where 'date_initial' is null and subtract days from 'date_column'\n",
    "date_condition = crunchbase_df['first_funding_at'].isnull()\n",
    "crunchbase_df.loc[date_condition, 'first_funding_at'] = crunchbase_df.loc[date_condition, 'last_funding_at'] - timedelta(days=days_to_substract) * crunchbase_df['funding_rounds']"
   ]
  },
  {
   "cell_type": "code",
   "execution_count": 68,
   "metadata": {},
   "outputs": [
    {
     "data": {
      "text/plain": [
       "Timestamp('1960-01-01 00:00:00')"
      ]
     },
     "execution_count": 68,
     "metadata": {},
     "output_type": "execute_result"
    }
   ],
   "source": [
    "crunchbase_df['first_funding_at'].min()"
   ]
  },
  {
   "cell_type": "code",
   "execution_count": 69,
   "metadata": {},
   "outputs": [
    {
     "data": {
      "text/plain": [
       "Timestamp('2015-12-05 00:00:00')"
      ]
     },
     "execution_count": 69,
     "metadata": {},
     "output_type": "execute_result"
    }
   ],
   "source": [
    "crunchbase_df['first_funding_at'].max()"
   ]
  },
  {
   "cell_type": "markdown",
   "metadata": {},
   "source": [
    "### founded_at Processing"
   ]
  },
  {
   "cell_type": "markdown",
   "metadata": {},
   "source": [
    "Considering funded date as the first date of funding when there are no values registered"
   ]
  },
  {
   "cell_type": "code",
   "execution_count": 70,
   "metadata": {},
   "outputs": [
    {
     "data": {
      "text/plain": [
       "15221"
      ]
     },
     "execution_count": 70,
     "metadata": {},
     "output_type": "execute_result"
    }
   ],
   "source": [
    "crunchbase_df['founded_at'].isna().sum()"
   ]
  },
  {
   "cell_type": "markdown",
   "metadata": {},
   "source": [
    "The following will eliminate dates before year 1749 and assign null values to whaterver values is not able to parse as datetime"
   ]
  },
  {
   "cell_type": "code",
   "execution_count": 71,
   "metadata": {},
   "outputs": [],
   "source": [
    "# Fill missing values in 'founded_at' with values from 'first_funding_at'\n",
    "crunchbase_df.loc[:, 'founded_at'] = pd.to_datetime(crunchbase_df['founded_at'], errors='coerce')"
   ]
  },
  {
   "cell_type": "code",
   "execution_count": 72,
   "metadata": {},
   "outputs": [
    {
     "data": {
      "text/plain": [
       "49957   1749-01-01\n",
       "49105   1766-01-01\n",
       "60577   1785-01-01\n",
       "60584   1787-01-01\n",
       "22671   1789-01-01\n",
       "Name: founded_at, dtype: datetime64[ns]"
      ]
     },
     "execution_count": 72,
     "metadata": {},
     "output_type": "execute_result"
    }
   ],
   "source": [
    "crunchbase_df['founded_at'].sort_values().head()"
   ]
  },
  {
   "cell_type": "code",
   "execution_count": 73,
   "metadata": {},
   "outputs": [
    {
     "data": {
      "text/plain": [
       "15225"
      ]
     },
     "execution_count": 73,
     "metadata": {},
     "output_type": "execute_result"
    }
   ],
   "source": [
    "crunchbase_df['founded_at'].isna().sum()"
   ]
  },
  {
   "cell_type": "markdown",
   "metadata": {},
   "source": [
    "We can compute the mean in the dataset to check on average how much time the companies get their first round of funding after the date of funding and impute that value to each missing value on funding"
   ]
  },
  {
   "cell_type": "code",
   "execution_count": 74,
   "metadata": {},
   "outputs": [],
   "source": [
    "crunchbase_found_date_df = crunchbase_df[(crunchbase_df['founded_at'].notna())]"
   ]
  },
  {
   "cell_type": "code",
   "execution_count": 75,
   "metadata": {},
   "outputs": [
    {
     "name": "stderr",
     "output_type": "stream",
     "text": [
      "C:\\Users\\pablo\\AppData\\Local\\Temp\\ipykernel_7124\\3449671691.py:2: SettingWithCopyWarning: \n",
      "A value is trying to be set on a copy of a slice from a DataFrame.\n",
      "Try using .loc[row_indexer,col_indexer] = value instead\n",
      "\n",
      "See the caveats in the documentation: https://pandas.pydata.org/pandas-docs/stable/user_guide/indexing.html#returning-a-view-versus-a-copy\n",
      "  crunchbase_found_date_df['founded_at'] = pd.to_datetime(crunchbase_found_date_df['founded_at'], errors='coerce')\n"
     ]
    }
   ],
   "source": [
    "# Fill missing values in 'founded_at' with values from 'first_funding_at'\n",
    "crunchbase_found_date_df['founded_at'] = pd.to_datetime(crunchbase_found_date_df['founded_at'], errors='coerce')"
   ]
  },
  {
   "cell_type": "code",
   "execution_count": 76,
   "metadata": {},
   "outputs": [
    {
     "data": {
      "text/plain": [
       "0"
      ]
     },
     "execution_count": 76,
     "metadata": {},
     "output_type": "execute_result"
    }
   ],
   "source": [
    "crunchbase_found_date_df['founded_at'].isna().sum()"
   ]
  },
  {
   "cell_type": "code",
   "execution_count": 77,
   "metadata": {},
   "outputs": [
    {
     "name": "stderr",
     "output_type": "stream",
     "text": [
      "C:\\Users\\pablo\\AppData\\Local\\Temp\\ipykernel_7124\\2736011309.py:1: SettingWithCopyWarning: \n",
      "A value is trying to be set on a copy of a slice from a DataFrame.\n",
      "Try using .loc[row_indexer,col_indexer] = value instead\n",
      "\n",
      "See the caveats in the documentation: https://pandas.pydata.org/pandas-docs/stable/user_guide/indexing.html#returning-a-view-versus-a-copy\n",
      "  crunchbase_found_date_df.loc[:, 'days'] = crunchbase_found_date_df['first_funding_at'] - crunchbase_found_date_df['founded_at']\n"
     ]
    }
   ],
   "source": [
    "crunchbase_found_date_df.loc[:, 'days'] = crunchbase_found_date_df['first_funding_at'] - crunchbase_found_date_df['founded_at']"
   ]
  },
  {
   "cell_type": "code",
   "execution_count": 78,
   "metadata": {},
   "outputs": [
    {
     "data": {
      "text/plain": [
       "1        -187\n",
       "3         443\n",
       "4        1665\n",
       "6        4636\n",
       "7         733\n",
       "         ... \n",
       "66361    2220\n",
       "66362      55\n",
       "66364    -194\n",
       "66365    1308\n",
       "66366     365\n",
       "Name: days, Length: 51143, dtype: int64"
      ]
     },
     "execution_count": 78,
     "metadata": {},
     "output_type": "execute_result"
    }
   ],
   "source": [
    "crunchbase_found_date_df['days'].dt.days"
   ]
  },
  {
   "cell_type": "markdown",
   "metadata": {},
   "source": [
    "We see that we have negative values for the days column and this is becaude the first_funding_at variable can be greater than the 'founded_at' column for some reason. Given this and for simplicity of analysis, we will only consider the positive values of days meaning that the 'first_funding_at' values is less than 'founded_at' value"
   ]
  },
  {
   "cell_type": "code",
   "execution_count": 79,
   "metadata": {},
   "outputs": [],
   "source": [
    "crunchbase_found_date_df = crunchbase_found_date_df[crunchbase_found_date_df['days'].dt.days > 0]\n",
    "crunchbase_found_date_df.loc[:, 'days'] = crunchbase_found_date_df['days'].dt.days"
   ]
  },
  {
   "cell_type": "code",
   "execution_count": 80,
   "metadata": {},
   "outputs": [
    {
     "data": {
      "text/plain": [
       "count    44365.000000\n",
       "mean      1605.114730\n",
       "std       3755.023127\n",
       "min          1.000000\n",
       "25%        275.000000\n",
       "50%        655.000000\n",
       "75%       1600.000000\n",
       "max      93053.000000\n",
       "Name: days, dtype: float64"
      ]
     },
     "execution_count": 80,
     "metadata": {},
     "output_type": "execute_result"
    }
   ],
   "source": [
    "crunchbase_found_date_df['days'].describe()"
   ]
  },
  {
   "cell_type": "code",
   "execution_count": 82,
   "metadata": {},
   "outputs": [],
   "source": [
    "#days_to_substract_founded = crunchbase_found_date_df['days'].describe()['mean']"
   ]
  },
  {
   "cell_type": "code",
   "execution_count": 83,
   "metadata": {},
   "outputs": [],
   "source": [
    "# Convert the variable to a string\n",
    "#variable_string = f\"avg_days_first_founded = {days_to_substract_founded}\\n\"\n",
    "\n",
    "# Write to a Python file\n",
    "#with open(\"helper_variables.py\", \"a\") as file:\n",
    "#    file.write(variable_string)"
   ]
  },
  {
   "cell_type": "code",
   "execution_count": 84,
   "metadata": {},
   "outputs": [],
   "source": [
    "days_to_substract_founded = helper_variables.avg_days_first_founded"
   ]
  },
  {
   "cell_type": "code",
   "execution_count": 85,
   "metadata": {},
   "outputs": [],
   "source": [
    "# Convert 'first_funding_at' and 'last_funding_at' to datetime\n",
    "crunchbase_df['founded_at'] = pd.to_datetime(crunchbase_df['founded_at'], errors='coerce')\n",
    "\n",
    "# Select rows where 'date_initial' is null and subtract days from 'date_column'\n",
    "date_condition = crunchbase_df['founded_at'].isnull()\n",
    "crunchbase_df.loc[date_condition, 'founded_at'] = crunchbase_df.loc[date_condition, 'first_funding_at'] - timedelta(days=days_to_substract_founded)"
   ]
  },
  {
   "cell_type": "markdown",
   "metadata": {},
   "source": [
    "Let's explore the range of values that `founded_at`"
   ]
  },
  {
   "cell_type": "code",
   "execution_count": 86,
   "metadata": {},
   "outputs": [
    {
     "data": {
      "text/plain": [
       "Timestamp('1749-01-01 00:00:00')"
      ]
     },
     "execution_count": 86,
     "metadata": {},
     "output_type": "execute_result"
    }
   ],
   "source": [
    "crunchbase_df['founded_at'].min()"
   ]
  },
  {
   "cell_type": "code",
   "execution_count": 87,
   "metadata": {},
   "outputs": [
    {
     "data": {
      "text/plain": [
       "Timestamp('2105-02-17 00:00:00')"
      ]
     },
     "execution_count": 87,
     "metadata": {},
     "output_type": "execute_result"
    }
   ],
   "source": [
    "crunchbase_df['founded_at'].max()"
   ]
  },
  {
   "cell_type": "markdown",
   "metadata": {},
   "source": [
    "We see that there are some dates that are obiously wrong, let's explore them further"
   ]
  },
  {
   "cell_type": "code",
   "execution_count": 88,
   "metadata": {},
   "outputs": [
    {
     "data": {
      "text/plain": [
       "30842   2016-01-01\n",
       "34438   2016-04-02\n",
       "32736   2041-09-21\n",
       "53396   2104-01-01\n",
       "16681   2105-02-17\n",
       "Name: founded_at, dtype: datetime64[ns]"
      ]
     },
     "execution_count": 88,
     "metadata": {},
     "output_type": "execute_result"
    }
   ],
   "source": [
    "crunchbase_df['founded_at'].sort_values().tail()"
   ]
  },
  {
   "cell_type": "markdown",
   "metadata": {},
   "source": [
    "We see that there are three specific dates that look like a typo on the data collection. Since they are only three of them, we will hard solve them to get a consistent dataset processed"
   ]
  },
  {
   "cell_type": "code",
   "execution_count": 89,
   "metadata": {},
   "outputs": [],
   "source": [
    "# Condition: Replace 'last_funding_at' where it's greater than '2023-01-01'\n",
    "condition_1 = crunchbase_df['founded_at'] == '2041-09-21'\n",
    "# Replace values that meet the condition\n",
    "crunchbase_df.loc[condition_1, 'founded_at'] = '2014-09-21'\n",
    "\n",
    "# Condition: Replace 'last_funding_at' where it's greater than '2023-01-01'\n",
    "condition_2 = crunchbase_df['founded_at'] == '2104-01-01'\n",
    "# Replace values that meet the condition\n",
    "crunchbase_df.loc[condition_2, 'founded_at'] = '2014-01-01'\n",
    "\n",
    "# Condition: Replace 'last_funding_at' where it's greater than '2023-01-01'\n",
    "condition_3 = crunchbase_df['founded_at'] == '2105-02-17'\n",
    "# Replace values that meet the condition\n",
    "crunchbase_df.loc[condition_3, 'founded_at'] = '2015-02-17'"
   ]
  },
  {
   "cell_type": "markdown",
   "metadata": {},
   "source": [
    "Confirmation on the ranges"
   ]
  },
  {
   "cell_type": "code",
   "execution_count": 90,
   "metadata": {},
   "outputs": [
    {
     "data": {
      "text/plain": [
       "Timestamp('1749-01-01 00:00:00')"
      ]
     },
     "execution_count": 90,
     "metadata": {},
     "output_type": "execute_result"
    }
   ],
   "source": [
    "crunchbase_df['founded_at'].min()"
   ]
  },
  {
   "cell_type": "code",
   "execution_count": 91,
   "metadata": {},
   "outputs": [
    {
     "data": {
      "text/plain": [
       "Timestamp('2016-04-02 00:00:00')"
      ]
     },
     "execution_count": 91,
     "metadata": {},
     "output_type": "execute_result"
    }
   ],
   "source": [
    "crunchbase_df['founded_at'].max()"
   ]
  },
  {
   "cell_type": "markdown",
   "metadata": {},
   "source": [
    "Let's see how our processed dataset looks like"
   ]
  },
  {
   "cell_type": "code",
   "execution_count": 92,
   "metadata": {},
   "outputs": [
    {
     "name": "stdout",
     "output_type": "stream",
     "text": [
      "<class 'pandas.core.frame.DataFrame'>\n",
      "RangeIndex: 66368 entries, 0 to 66367\n",
      "Data columns (total 35 columns):\n",
      " #   Column                                                   Non-Null Count  Dtype         \n",
      "---  ------                                                   --------------  -----         \n",
      " 0   permalink                                                66368 non-null  object        \n",
      " 1   name                                                     66368 non-null  object        \n",
      " 2   homepage_url                                             66368 non-null  object        \n",
      " 3   funding_total_usd                                        66368 non-null  float64       \n",
      " 4   status                                                   66368 non-null  object        \n",
      " 5   country_code                                             66368 non-null  object        \n",
      " 6   state_code                                               66368 non-null  object        \n",
      " 7   region                                                   66368 non-null  object        \n",
      " 8   city                                                     66368 non-null  object        \n",
      " 9   funding_rounds                                           66368 non-null  int64         \n",
      " 10  founded_at                                               66368 non-null  datetime64[ns]\n",
      " 11  first_funding_at                                         66368 non-null  datetime64[ns]\n",
      " 12  last_funding_at                                          66368 non-null  datetime64[ns]\n",
      " 13  Media and Arts                                           66368 non-null  int64         \n",
      " 14  Manufacturing and Industrial                             66368 non-null  int64         \n",
      " 15  Technology, Hardware and Computing                       66368 non-null  int64         \n",
      " 16  Financial Services and Cryptocurrency                    66368 non-null  int64         \n",
      " 17  Health, Human Resource and Wellness                      66368 non-null  int64         \n",
      " 18  Enterprise, Business and Finance                         66368 non-null  int64         \n",
      " 19  Hospitality and Travel                                   66368 non-null  int64         \n",
      " 20  Education, Learning and EdTech                           66368 non-null  int64         \n",
      " 21  Transportation, Automotive and Logistics                 66368 non-null  int64         \n",
      " 22  Agriculture and Horticulture                             66368 non-null  int64         \n",
      " 23  Energy and Environment                                   66368 non-null  int64         \n",
      " 24  Markets, Emerging Markets, Innovation and Global Trends  66368 non-null  int64         \n",
      " 25  Animals and Vet                                          66368 non-null  int64         \n",
      " 26  Real Estate, Property and Construction                   66368 non-null  int64         \n",
      " 27  Entertainment, Gaming and Social                         66368 non-null  int64         \n",
      " 28  Consumer Goods and Retail                                66368 non-null  int64         \n",
      " 29  Data and Cloud                                           66368 non-null  int64         \n",
      " 30  Healthcare and Biotechnology                             66368 non-null  int64         \n",
      " 31  Mobile and Online Technology                             66368 non-null  int64         \n",
      " 32  Legal, Security and Governance                           66368 non-null  int64         \n",
      " 33  Event Management and Planning                            66368 non-null  int64         \n",
      " 34  Not Specified                                            66368 non-null  int64         \n",
      "dtypes: datetime64[ns](3), float64(1), int64(23), object(8)\n",
      "memory usage: 17.7+ MB\n"
     ]
    }
   ],
   "source": [
    "crunchbase_df.info()"
   ]
  },
  {
   "cell_type": "markdown",
   "metadata": {},
   "source": [
    "In this last step, we will compilate all operations and transformations made on the notebook to a python file so we can load and process the dataset, save it as a CSV and JSON files and then load it into the next EDA jupyter notebook"
   ]
  },
  {
   "cell_type": "code",
   "execution_count": 93,
   "metadata": {},
   "outputs": [],
   "source": [
    "crunchbase_df.to_csv('data/startup_processed_data.csv')"
   ]
  },
  {
   "cell_type": "code",
   "execution_count": 94,
   "metadata": {},
   "outputs": [],
   "source": [
    "df_json = crunchbase_df.to_json()\n",
    "\n",
    "with open('data/startup_processed_data.json', 'w') as file:\n",
    "    json.dump(df_json, file)"
   ]
  }
 ],
 "metadata": {
  "kernelspec": {
   "display_name": "python311",
   "language": "python",
   "name": "python3"
  },
  "language_info": {
   "codemirror_mode": {
    "name": "ipython",
    "version": 3
   },
   "file_extension": ".py",
   "mimetype": "text/x-python",
   "name": "python",
   "nbconvert_exporter": "python",
   "pygments_lexer": "ipython3",
   "version": "3.11.4"
  }
 },
 "nbformat": 4,
 "nbformat_minor": 2
}
